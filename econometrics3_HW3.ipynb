{
 "cells": [
  {
   "cell_type": "code",
   "execution_count": 1,
   "metadata": {},
   "outputs": [],
   "source": [
    "import numpy as np\n",
    "import pandas as pd\n",
    "import matplotlib.pyplot as plt\n",
    "from IPython.core.interactiveshell import InteractiveShell\n",
    "InteractiveShell.ast_node_interactivity = \"all\"\n",
    "from scipy.optimize import minimize\n",
    "from scipy.optimize import minimize\n",
    "from scipy import stats"
   ]
  },
  {
   "cell_type": "code",
   "execution_count": 2,
   "metadata": {},
   "outputs": [],
   "source": [
    "dat=pd.read_csv(\"Foreign_Exchange_Rates.csv\")"
   ]
  },
  {
   "cell_type": "code",
   "execution_count": 3,
   "metadata": {},
   "outputs": [
    {
     "data": {
      "text/html": [
       "<div>\n",
       "<style scoped>\n",
       "    .dataframe tbody tr th:only-of-type {\n",
       "        vertical-align: middle;\n",
       "    }\n",
       "\n",
       "    .dataframe tbody tr th {\n",
       "        vertical-align: top;\n",
       "    }\n",
       "\n",
       "    .dataframe thead th {\n",
       "        text-align: right;\n",
       "    }\n",
       "</style>\n",
       "<table border=\"1\" class=\"dataframe\">\n",
       "  <thead>\n",
       "    <tr style=\"text-align: right;\">\n",
       "      <th></th>\n",
       "      <th>Unnamed: 0</th>\n",
       "      <th>Time Serie</th>\n",
       "      <th>AUSTRALIA - AUSTRALIAN DOLLAR/US$</th>\n",
       "      <th>EURO AREA - EURO/US$</th>\n",
       "      <th>NEW ZEALAND - NEW ZELAND DOLLAR/US$</th>\n",
       "      <th>UNITED KINGDOM - UNITED KINGDOM POUND/US$</th>\n",
       "      <th>BRAZIL - REAL/US$</th>\n",
       "      <th>CANADA - CANADIAN DOLLAR/US$</th>\n",
       "      <th>CHINA - YUAN/US$</th>\n",
       "      <th>HONG KONG - HONG KONG DOLLAR/US$</th>\n",
       "      <th>...</th>\n",
       "      <th>SINGAPORE - SINGAPORE DOLLAR/US$</th>\n",
       "      <th>DENMARK - DANISH KRONE/US$</th>\n",
       "      <th>JAPAN - YEN/US$</th>\n",
       "      <th>MALAYSIA - RINGGIT/US$</th>\n",
       "      <th>NORWAY - NORWEGIAN KRONE/US$</th>\n",
       "      <th>SWEDEN - KRONA/US$</th>\n",
       "      <th>SRI LANKA - SRI LANKAN RUPEE/US$</th>\n",
       "      <th>SWITZERLAND - FRANC/US$</th>\n",
       "      <th>TAIWAN - NEW TAIWAN DOLLAR/US$</th>\n",
       "      <th>THAILAND - BAHT/US$</th>\n",
       "    </tr>\n",
       "  </thead>\n",
       "  <tbody>\n",
       "    <tr>\n",
       "      <th>0</th>\n",
       "      <td>0</td>\n",
       "      <td>2000-01-03</td>\n",
       "      <td>1.5172</td>\n",
       "      <td>0.9847</td>\n",
       "      <td>1.9033</td>\n",
       "      <td>0.6146</td>\n",
       "      <td>1.805</td>\n",
       "      <td>1.4465</td>\n",
       "      <td>8.2798</td>\n",
       "      <td>7.7765</td>\n",
       "      <td>...</td>\n",
       "      <td>1.6563</td>\n",
       "      <td>7.329</td>\n",
       "      <td>101.7</td>\n",
       "      <td>3.8</td>\n",
       "      <td>7.964</td>\n",
       "      <td>8.443</td>\n",
       "      <td>72.3</td>\n",
       "      <td>1.5808</td>\n",
       "      <td>31.38</td>\n",
       "      <td>36.97</td>\n",
       "    </tr>\n",
       "    <tr>\n",
       "      <th>1</th>\n",
       "      <td>1</td>\n",
       "      <td>2000-01-04</td>\n",
       "      <td>1.5239</td>\n",
       "      <td>0.97</td>\n",
       "      <td>1.9238</td>\n",
       "      <td>0.6109</td>\n",
       "      <td>1.8405</td>\n",
       "      <td>1.4518</td>\n",
       "      <td>8.2799</td>\n",
       "      <td>7.7775</td>\n",
       "      <td>...</td>\n",
       "      <td>1.6535</td>\n",
       "      <td>7.218</td>\n",
       "      <td>103.09</td>\n",
       "      <td>3.8</td>\n",
       "      <td>7.934</td>\n",
       "      <td>8.36</td>\n",
       "      <td>72.65</td>\n",
       "      <td>1.5565</td>\n",
       "      <td>30.6</td>\n",
       "      <td>37.13</td>\n",
       "    </tr>\n",
       "    <tr>\n",
       "      <th>2</th>\n",
       "      <td>2</td>\n",
       "      <td>2000-01-05</td>\n",
       "      <td>1.5267</td>\n",
       "      <td>0.9676</td>\n",
       "      <td>1.9339</td>\n",
       "      <td>0.6092</td>\n",
       "      <td>1.856</td>\n",
       "      <td>1.4518</td>\n",
       "      <td>8.2798</td>\n",
       "      <td>7.778</td>\n",
       "      <td>...</td>\n",
       "      <td>1.656</td>\n",
       "      <td>7.208</td>\n",
       "      <td>103.77</td>\n",
       "      <td>3.8</td>\n",
       "      <td>7.935</td>\n",
       "      <td>8.353</td>\n",
       "      <td>72.95</td>\n",
       "      <td>1.5526</td>\n",
       "      <td>30.8</td>\n",
       "      <td>37.1</td>\n",
       "    </tr>\n",
       "    <tr>\n",
       "      <th>3</th>\n",
       "      <td>3</td>\n",
       "      <td>2000-01-06</td>\n",
       "      <td>1.5291</td>\n",
       "      <td>0.9686</td>\n",
       "      <td>1.9436</td>\n",
       "      <td>0.607</td>\n",
       "      <td>1.84</td>\n",
       "      <td>1.4571</td>\n",
       "      <td>8.2797</td>\n",
       "      <td>7.7785</td>\n",
       "      <td>...</td>\n",
       "      <td>1.6655</td>\n",
       "      <td>7.2125</td>\n",
       "      <td>105.19</td>\n",
       "      <td>3.8</td>\n",
       "      <td>7.94</td>\n",
       "      <td>8.3675</td>\n",
       "      <td>72.95</td>\n",
       "      <td>1.554</td>\n",
       "      <td>31.75</td>\n",
       "      <td>37.62</td>\n",
       "    </tr>\n",
       "    <tr>\n",
       "      <th>4</th>\n",
       "      <td>4</td>\n",
       "      <td>2000-01-07</td>\n",
       "      <td>1.5272</td>\n",
       "      <td>0.9714</td>\n",
       "      <td>1.938</td>\n",
       "      <td>0.6104</td>\n",
       "      <td>1.831</td>\n",
       "      <td>1.4505</td>\n",
       "      <td>8.2794</td>\n",
       "      <td>7.7783</td>\n",
       "      <td>...</td>\n",
       "      <td>1.6625</td>\n",
       "      <td>7.2285</td>\n",
       "      <td>105.17</td>\n",
       "      <td>3.8</td>\n",
       "      <td>7.966</td>\n",
       "      <td>8.415</td>\n",
       "      <td>73.15</td>\n",
       "      <td>1.5623</td>\n",
       "      <td>30.85</td>\n",
       "      <td>37.3</td>\n",
       "    </tr>\n",
       "  </tbody>\n",
       "</table>\n",
       "<p>5 rows × 24 columns</p>\n",
       "</div>"
      ],
      "text/plain": [
       "   Unnamed: 0  Time Serie AUSTRALIA - AUSTRALIAN DOLLAR/US$  \\\n",
       "0           0  2000-01-03                            1.5172   \n",
       "1           1  2000-01-04                            1.5239   \n",
       "2           2  2000-01-05                            1.5267   \n",
       "3           3  2000-01-06                            1.5291   \n",
       "4           4  2000-01-07                            1.5272   \n",
       "\n",
       "  EURO AREA - EURO/US$ NEW ZEALAND - NEW ZELAND DOLLAR/US$  \\\n",
       "0               0.9847                              1.9033   \n",
       "1                 0.97                              1.9238   \n",
       "2               0.9676                              1.9339   \n",
       "3               0.9686                              1.9436   \n",
       "4               0.9714                               1.938   \n",
       "\n",
       "  UNITED KINGDOM - UNITED KINGDOM POUND/US$ BRAZIL - REAL/US$  \\\n",
       "0                                    0.6146             1.805   \n",
       "1                                    0.6109            1.8405   \n",
       "2                                    0.6092             1.856   \n",
       "3                                     0.607              1.84   \n",
       "4                                    0.6104             1.831   \n",
       "\n",
       "  CANADA - CANADIAN DOLLAR/US$ CHINA - YUAN/US$  \\\n",
       "0                       1.4465           8.2798   \n",
       "1                       1.4518           8.2799   \n",
       "2                       1.4518           8.2798   \n",
       "3                       1.4571           8.2797   \n",
       "4                       1.4505           8.2794   \n",
       "\n",
       "  HONG KONG - HONG KONG DOLLAR/US$  ... SINGAPORE - SINGAPORE DOLLAR/US$  \\\n",
       "0                           7.7765  ...                           1.6563   \n",
       "1                           7.7775  ...                           1.6535   \n",
       "2                            7.778  ...                            1.656   \n",
       "3                           7.7785  ...                           1.6655   \n",
       "4                           7.7783  ...                           1.6625   \n",
       "\n",
       "  DENMARK - DANISH KRONE/US$ JAPAN - YEN/US$ MALAYSIA - RINGGIT/US$  \\\n",
       "0                      7.329           101.7                    3.8   \n",
       "1                      7.218          103.09                    3.8   \n",
       "2                      7.208          103.77                    3.8   \n",
       "3                     7.2125          105.19                    3.8   \n",
       "4                     7.2285          105.17                    3.8   \n",
       "\n",
       "  NORWAY - NORWEGIAN KRONE/US$ SWEDEN - KRONA/US$  \\\n",
       "0                        7.964              8.443   \n",
       "1                        7.934               8.36   \n",
       "2                        7.935              8.353   \n",
       "3                         7.94             8.3675   \n",
       "4                        7.966              8.415   \n",
       "\n",
       "  SRI LANKA - SRI LANKAN RUPEE/US$ SWITZERLAND - FRANC/US$  \\\n",
       "0                             72.3                  1.5808   \n",
       "1                            72.65                  1.5565   \n",
       "2                            72.95                  1.5526   \n",
       "3                            72.95                   1.554   \n",
       "4                            73.15                  1.5623   \n",
       "\n",
       "  TAIWAN - NEW TAIWAN DOLLAR/US$ THAILAND - BAHT/US$  \n",
       "0                          31.38               36.97  \n",
       "1                           30.6               37.13  \n",
       "2                           30.8                37.1  \n",
       "3                          31.75               37.62  \n",
       "4                          30.85                37.3  \n",
       "\n",
       "[5 rows x 24 columns]"
      ]
     },
     "execution_count": 3,
     "metadata": {},
     "output_type": "execute_result"
    }
   ],
   "source": [
    "dat.head(5)"
   ]
  },
  {
   "cell_type": "code",
   "execution_count": 4,
   "metadata": {},
   "outputs": [],
   "source": [
    "ts1=pd.to_numeric(dat[\"AUSTRALIA - AUSTRALIAN DOLLAR/US$\"],errors='coerce').dropna().reset_index()\n",
    "ts1=ts1[\"AUSTRALIA - AUSTRALIAN DOLLAR/US$\"]\n",
    "ts2=pd.to_numeric(dat[\"EURO AREA - EURO/US$\"],errors='coerce').dropna().reset_index()\n",
    "ts2=ts2[\"EURO AREA - EURO/US$\"]\n",
    "ts3=pd.to_numeric(dat[\"JAPAN - YEN/US$\"],errors='coerce').dropna().reset_index()\n",
    "ts3=ts3[\"JAPAN - YEN/US$\"]\n",
    "ts4=pd.to_numeric(dat[\"UNITED KINGDOM - UNITED KINGDOM POUND/US$\"],errors='coerce').dropna().reset_index()\n",
    "ts4=ts4[\"UNITED KINGDOM - UNITED KINGDOM POUND/US$\"]"
   ]
  },
  {
   "cell_type": "code",
   "execution_count": 5,
   "metadata": {},
   "outputs": [
    {
     "data": {
      "image/png": "[encoded data removed]",
      "text/plain": [
       "<Figure size 720x720 with 4 Axes>"
      ]
     },
     "metadata": {
      "needs_background": "light"
     },
     "output_type": "display_data"
    }
   ],
   "source": [
    "fig, axs = plt.subplots(2,2)\n",
    "fig.set_figheight(10);\n",
    "fig.set_figwidth(10);\n",
    "axs[0,0].plot(ts1,color=\"red\")\n",
    "axs[0,1].plot(ts2,color=\"blue\")\n",
    "axs[1,0].plot(ts3,color=\"green\")\n",
    "axs[1,1].plot(ts4,color=\"orange\")\n",
    "axs[0,0].set_title(\"AUSTRALIAN DOLLAR/US$\");\n",
    "axs[0,1].set_title(\"EURO/US$\");\n",
    "axs[1,0].set_title(\"YEN/US$\");\n",
    "axs[1,1].set_title(\"POUND/US$\");\n",
    "fig.suptitle(\"Time Series plot\",size=25);"
   ]
  },
  {
   "cell_type": "markdown",
   "metadata": {},
   "source": [
    "# Auto Regressive Integrated Moving Average Model: ARIMA(p,d,q)  "
   ]
  },
  {
   "cell_type": "markdown",
   "metadata": {},
   "source": [
    "## Test for Stationarity to determine order d"
   ]
  },
  {
   "cell_type": "markdown",
   "metadata": {},
   "source": [
    "I am using ADF test for stationarity check here. The lag order (p) in the ADF test is given by the documentation of \"tseries\" package of R: $$p=trunc((length(x)-1)^{(1/3)})$$ where \"trunc\" is a function to make the float object into integer towards 0 and \"x\" is the time series."
   ]
  },
  {
   "cell_type": "code",
   "execution_count": 6,
   "metadata": {},
   "outputs": [],
   "source": [
    "def adf_test(data):\n",
    "    k=int((len(data)-1)**(1/3))\n",
    "    k=k+1\n",
    "    y=np.zeros(len(data)-k)\n",
    "    x=np.zeros([len(data)-k,k])\n",
    "    for i in range(k,len(data)):\n",
    "        y[i-k]=data[i]-data[i-1]\n",
    "        x[i-k,0]=data[i-1]\n",
    "        for j in range(1,k):\n",
    "            x[i-k,j]=data[i-j]-data[i-j-1]\n",
    "    trend=np.reshape(np.arange(k,len(data),1),(len(data)-k,1)) #Adding trend into the model\n",
    "    x=np.hstack((trend,x))                                          # Addign trend as an explanatory variable\n",
    "    x=np.hstack((np.ones([x.shape[0],1]),x))\n",
    "    beta=np.matmul(np.linalg.inv(np.matmul(np.matrix.transpose(x),x)),np.matmul(np.matrix.transpose(x),y))\n",
    "    res=y-np.matmul(x,beta)\n",
    "    sd=np.dot(np.matrix.transpose(res),res)/(len(y)-len(beta))\n",
    "    se=sd*np.linalg.inv(np.matmul(np.matrix.transpose(x),x))\n",
    "    t=beta[2]/(se[2,2]**0.5)\n",
    "    return t"
   ]
  },
  {
   "cell_type": "markdown",
   "metadata": {},
   "source": [
    "### Augmented Dickey-Fuller (ADF) Test results"
   ]
  },
  {
   "cell_type": "code",
   "execution_count": 7,
   "metadata": {},
   "outputs": [
    {
     "name": "stdout",
     "output_type": "stream",
     "text": [
      "ADF test statistic for AUD/USD: -1.3064760652043317\n",
      "ADF test statistic for EURO/USD: -1.477475047653281\n",
      "ADF test statistic for Yen/USD: -1.7493074741721384\n",
      "ADF test statistic for Pound/USD: -1.8808972121298713\n"
     ]
    }
   ],
   "source": [
    "print(\"ADF test statistic for AUD/USD:\",adf_test(ts1))\n",
    "print(\"ADF test statistic for EURO/USD:\",adf_test(ts2))\n",
    "print(\"ADF test statistic for Yen/USD:\",adf_test(ts3))\n",
    "print(\"ADF test statistic for Pound/USD:\",adf_test(ts4))"
   ]
  },
  {
   "cell_type": "markdown",
   "metadata": {},
   "source": [
    "For model with trend and constant mean, the critical value for the ADF test statistic is -3.41 at 5% level of significance. Our obtained test statistic for all the four time series are larger than the critical value. Therefore, we cannot reject the null hypothesis of unit root. "
   ]
  },
  {
   "cell_type": "markdown",
   "metadata": {},
   "source": [
    "#### Compare with python package"
   ]
  },
  {
   "cell_type": "code",
   "execution_count": 8,
   "metadata": {},
   "outputs": [],
   "source": [
    "from statsmodels.tsa import stattools as tools"
   ]
  },
  {
   "cell_type": "code",
   "execution_count": 9,
   "metadata": {},
   "outputs": [
    {
     "name": "stdout",
     "output_type": "stream",
     "text": [
      "ADF test statistic for AUD/USD: -1.3064760652006442\n",
      "ADF test statistic for AUD/USD: -1.4774750476556726\n",
      "ADF test statistic for AUD/USD: -1.7493074741719994\n",
      "ADF test statistic for AUD/USD: -1.8808972121254062\n"
     ]
    }
   ],
   "source": [
    "print(\"ADF test statistic for AUD/USD:\",tools.adfuller(ts1,17,regression=\"ct\", autolag=None)[0])\n",
    "print(\"ADF test statistic for AUD/USD:\",tools.adfuller(ts2,17,regression=\"ct\", autolag=None)[0])\n",
    "print(\"ADF test statistic for AUD/USD:\",tools.adfuller(ts3,17,regression=\"ct\", autolag=None)[0])\n",
    "print(\"ADF test statistic for AUD/USD:\",tools.adfuller(ts4,17,regression=\"ct\", autolag=None)[0])"
   ]
  },
  {
   "cell_type": "markdown",
   "metadata": {},
   "source": [
    "### ADF for First Order Difference"
   ]
  },
  {
   "cell_type": "code",
   "execution_count": 10,
   "metadata": {},
   "outputs": [
    {
     "name": "stdout",
     "output_type": "stream",
     "text": [
      "ADF test statistic for AUD/USD: -16.413937982596366\n",
      "ADF test statistic for EURO/USD: -16.62152915262816\n",
      "ADF test statistic for Yen/USD: -16.744007541867692\n",
      "ADF test statistic for Pound/USD: -16.573536686910487\n"
     ]
    }
   ],
   "source": [
    "print(\"ADF test statistic for AUD/USD:\",adf_test(np.diff(ts1)))\n",
    "print(\"ADF test statistic for EURO/USD:\",adf_test(np.diff(ts2)))\n",
    "print(\"ADF test statistic for Yen/USD:\",adf_test(np.diff(ts3)))\n",
    "print(\"ADF test statistic for Pound/USD:\",adf_test(np.diff(ts4)))"
   ]
  },
  {
   "cell_type": "markdown",
   "metadata": {},
   "source": [
    "The test statistic value for the first order difference is significantly lower than the critical value. Therefore, we can conclude that the series is stationary at the first difference. "
   ]
  },
  {
   "cell_type": "markdown",
   "metadata": {},
   "source": [
    "### ACF to determine order q"
   ]
  },
  {
   "cell_type": "code",
   "execution_count": 11,
   "metadata": {},
   "outputs": [
    {
     "data": {
      "text/plain": [
       "<BarContainer object of 30 artists>"
      ]
     },
     "execution_count": 11,
     "metadata": {},
     "output_type": "execute_result"
    },
    {
     "data": {
      "text/plain": [
       "<matplotlib.collections.PathCollection at 0x21c44ec1780>"
      ]
     },
     "execution_count": 11,
     "metadata": {},
     "output_type": "execute_result"
    },
    {
     "data": {
      "text/plain": [
       "<matplotlib.collections.PolyCollection at 0x21c44f06fd0>"
      ]
     },
     "execution_count": 11,
     "metadata": {},
     "output_type": "execute_result"
    },
    {
     "data": {
      "text/plain": [
       "[<matplotlib.lines.Line2D at 0x21c44f06ef0>]"
      ]
     },
     "execution_count": 11,
     "metadata": {},
     "output_type": "execute_result"
    },
    {
     "data": {
      "image/png": "[encoded data removed]",
      "text/plain": [
       "<Figure size 432x288 with 1 Axes>"
      ]
     },
     "metadata": {
      "needs_background": "light"
     },
     "output_type": "display_data"
    }
   ],
   "source": [
    "# def my_acf (data):    \n",
    "#     resid=np.diff(ts1)\n",
    "data=np.diff(ts1)\n",
    "ACF=np.zeros(30)\n",
    "ACF[0]=stats.pearsonr(data,data)[0]\n",
    "for i in range(1,len(ACF)):\n",
    "    lag=data[i:]\n",
    "    new_dat=data[:len(lag)]\n",
    "    ACF[i]=stats.pearsonr(new_dat,lag)[0]\n",
    "\n",
    "# var_acf=1/(len(np.diff(ts1)));              ##this contant variance is used in R \n",
    "\n",
    "var_acf = np.ones(30) / len(data)\n",
    "var_acf[0] = 0\n",
    "var_acf[1] = 1. / len(data)\n",
    "var_acf[2:] *= 1 + 2 * np.cumsum(ACF[1:-1]**2) # In python, Bartlett's formula is used\n",
    "\n",
    "plt.bar(range(len(ACF)), ACF, width=0, ec=\"k\", capstyle=\"round\", linewidth=1.5);\n",
    "plt.scatter(range(len(ACF)), ACF, color=\"dodgerblue\", s=20)\n",
    "plt.fill_between(range(len(ACF)), (1.96*var_acf**0.5), -(1.96*var_acf**0.5),color=\"dodgerblue\", alpha=0.2)\n",
    "plt.plot(range(len(ACF)),np.zeros(30),linestyle='solid',color=\"dodgerblue\",linewidth=1);\n",
    "plt.show()"
   ]
  },
  {
   "cell_type": "markdown",
   "metadata": {},
   "source": [
    "#### Compare with python package "
   ]
  },
  {
   "cell_type": "code",
   "execution_count": 12,
   "metadata": {},
   "outputs": [],
   "source": [
    "from statsmodels.graphics.tsaplots import plot_acf as acf "
   ]
  },
  {
   "cell_type": "code",
   "execution_count": 13,
   "metadata": {},
   "outputs": [
    {
     "data": {
      "image/png": "[encoded data removed]",
      "text/plain": [
       "<Figure size 432x288 with 1 Axes>"
      ]
     },
     "metadata": {
      "needs_background": "light"
     },
     "output_type": "display_data"
    }
   ],
   "source": [
    "acf(np.diff(ts1),lags=30);"
   ]
  },
  {
   "cell_type": "markdown",
   "metadata": {},
   "source": [
    "### PACF to determine order p"
   ]
  },
  {
   "cell_type": "code",
   "execution_count": 14,
   "metadata": {},
   "outputs": [
    {
     "data": {
      "text/plain": [
       "<BarContainer object of 25 artists>"
      ]
     },
     "execution_count": 14,
     "metadata": {},
     "output_type": "execute_result"
    },
    {
     "data": {
      "text/plain": [
       "<matplotlib.collections.PathCollection at 0x21c44fe87b8>"
      ]
     },
     "execution_count": 14,
     "metadata": {},
     "output_type": "execute_result"
    },
    {
     "data": {
      "text/plain": [
       "<matplotlib.collections.PolyCollection at 0x21c4501df60>"
      ]
     },
     "execution_count": 14,
     "metadata": {},
     "output_type": "execute_result"
    },
    {
     "data": {
      "text/plain": [
       "[<matplotlib.lines.Line2D at 0x21c4501dfd0>]"
      ]
     },
     "execution_count": 14,
     "metadata": {},
     "output_type": "execute_result"
    },
    {
     "data": {
      "image/png": "[encoded data removed]",
      "text/plain": [
       "<Figure size 432x288 with 1 Axes>"
      ]
     },
     "metadata": {
      "needs_background": "light"
     },
     "output_type": "display_data"
    }
   ],
   "source": [
    "w=np.diff(ts1)\n",
    "PACF=np.zeros(25)\n",
    "PACF[0]=1\n",
    "for k in range(1,len(PACF)):\n",
    "    y=np.zeros(len(w)-k)\n",
    "    x=np.zeros([len(w)-k,k])\n",
    "    for i in range(len(w)-k):\n",
    "        y[i]=w[i]\n",
    "        for j in range(k):\n",
    "            x[i,j]=w[i+j+1]\n",
    "    theta=np.matmul(np.linalg.inv(np.matmul(np.matrix.transpose(x),x)),np.matmul(np.matrix.transpose(x),y))\n",
    "    PACF[k]=theta[k-1]\n",
    "    \n",
    "var_pacf = np.ones(25) / len(data)\n",
    "var_pacf[0] = 0\n",
    "var_pacf[1] = 1. / len(data)\n",
    "var_pacf[2:] *= 1 + 2 * np.cumsum(PACF[1:-1]**2) # In python, Bartlett's formula is used\n",
    "    \n",
    "plt.bar(range(len(PACF)), PACF, width=0, ec=\"k\", capstyle=\"round\", linewidth=1.5);\n",
    "plt.scatter(range(len(PACF)), PACF, color=\"dodgerblue\", s=20)\n",
    "plt.fill_between(range(len(PACF)), (1.96*var_pacf**0.5), -(1.96*var_pacf**0.5),color=\"dodgerblue\", alpha=0.2)\n",
    "#plt.plot(range(len(PACF)),np.ones(25)*(1.96/(len(np.diff(ts1)))**0.5),linestyle='dashed',color=\"blue\"); \n",
    "#plt.plot(range(len(PACF)),-np.ones(25)*(1.96/(len(np.diff(ts1)))**0.5),linestyle='dashed',color=\"blue\");\n",
    "plt.plot(range(len(PACF)),np.zeros(25),linestyle='solid',color=\"dodgerblue\",linewidth=1);\n",
    "plt.show()"
   ]
  },
  {
   "cell_type": "markdown",
   "metadata": {},
   "source": [
    "#### Comapre with python package"
   ]
  },
  {
   "cell_type": "code",
   "execution_count": 15,
   "metadata": {},
   "outputs": [],
   "source": [
    "from statsmodels.graphics.tsaplots import plot_pacf as pacf "
   ]
  },
  {
   "cell_type": "code",
   "execution_count": 16,
   "metadata": {},
   "outputs": [
    {
     "data": {
      "image/png": "[encoded data removed]",
      "text/plain": [
       "<Figure size 432x288 with 1 Axes>"
      ]
     },
     "metadata": {
      "needs_background": "light"
     },
     "output_type": "display_data"
    }
   ],
   "source": [
    "pacf(np.diff(ts1), lags=25);"
   ]
  },
  {
   "cell_type": "markdown",
   "metadata": {},
   "source": [
    "## ARIMA (p,d,q) Model "
   ]
  },
  {
   "cell_type": "code",
   "execution_count": 17,
   "metadata": {},
   "outputs": [],
   "source": [
    "def ARIMA_css(par,p,d,q,data):\n",
    "    \n",
    "    \n",
    "    for i in (range(d)):\n",
    "        data=np.diff(data)\n",
    "    \n",
    "    phi=np.array(par[1:p+1])\n",
    "    theta=np.array(par[p+1:])\n",
    "    res=np.zeros(len(data))\n",
    "    \n",
    "    z=np.zeros([len(data)-max(p,q),q])\n",
    "    y=np.zeros(len(data)-max(p,q))\n",
    "    x=np.zeros((len(data)-max(p,q),p))\n",
    "\n",
    "    for i in range(max(p,q),len(data)):\n",
    "        y[i-max(p,q)]=data[i]-par[0]\n",
    "        for j in range(p):\n",
    "            x[i-max(p,q),j]=data[i-j-1]-par[0]\n",
    "        res[i]=y[i-max(p,q)]-np.dot(x[i-max(p,q),:],phi)-np.dot(res[i-q:i],theta)\n",
    "\n",
    "    for i in range(max(p,q),len(data)):\n",
    "            z[i-max(p,q),:]=res[i-q:i]\n",
    "    \n",
    "    obj_fun=np.dot(y-np.dot(x,phi)-np.dot(z,theta),y-np.dot(x,phi)-np.dot(z,theta))\n",
    "    \n",
    "    \n",
    "    return obj_fun"
   ]
  },
  {
   "cell_type": "code",
   "execution_count": 18,
   "metadata": {},
   "outputs": [
    {
     "data": {
      "text/plain": [
       "      fun: 0.6052111677004296\n",
       " hess_inv: array([[ 9.96805501e-05, -2.14665385e-04, -1.57255329e-04,\n",
       "         1.41928260e-04,  2.04638898e-04],\n",
       "       [-2.14665385e-04,  2.45249780e+02,  1.55900110e+02,\n",
       "        -1.41245415e+02, -2.43691017e+02],\n",
       "       [-1.57255329e-04,  1.55900110e+02,  1.29861666e+02,\n",
       "        -1.20862980e+02, -1.54190762e+02],\n",
       "       [ 1.41928260e-04, -1.41245415e+02, -1.20862980e+02,\n",
       "         1.13391714e+02,  1.39685638e+02],\n",
       "       [ 2.04638898e-04, -2.43691017e+02, -1.54190762e+02,\n",
       "         1.39685638e+02,  2.42809233e+02]])\n",
       "      jac: array([-1.63912773e-07, -4.69386578e-07, -1.19209290e-07, -1.34110451e-07,\n",
       "       -5.73694706e-07])\n",
       "  message: 'Optimization terminated successfully.'\n",
       "     nfev: 259\n",
       "      nit: 31\n",
       "     njev: 37\n",
       "   status: 0\n",
       "  success: True\n",
       "        x: array([-2.11130933e-05, -1.03845625e-01,  4.68228441e-01, -4.51079714e-01,\n",
       "        4.57480098e-02])"
      ]
     },
     "execution_count": 18,
     "metadata": {},
     "output_type": "execute_result"
    }
   ],
   "source": [
    "minimize(ARIMA_css,[0,0,0,0,0],args=(2,1,2,ts1))"
   ]
  },
  {
   "cell_type": "markdown",
   "metadata": {},
   "source": [
    "#### Compare with python package"
   ]
  },
  {
   "cell_type": "code",
   "execution_count": 19,
   "metadata": {},
   "outputs": [],
   "source": [
    "from statsmodels.tsa import arima_process\n",
    "from statsmodels.tsa.arima_model import ARIMA"
   ]
  },
  {
   "cell_type": "code",
   "execution_count": 20,
   "metadata": {},
   "outputs": [
    {
     "data": {
      "text/html": [
       "<table class=\"simpletable\">\n",
       "<caption>ARIMA Model Results</caption>\n",
       "<tr>\n",
       "  <th>Dep. Variable:</th> <td>D.AUSTRALIA - AUSTRALIAN DOLLAR/US$</td> <th>  No. Observations:  </th>    <td>5018</td>   \n",
       "</tr>\n",
       "<tr>\n",
       "  <th>Model:</th>                   <td>ARIMA(2, 1, 2)</td>            <th>  Log Likelihood     </th>  <td>15511.200</td>\n",
       "</tr>\n",
       "<tr>\n",
       "  <th>Method:</th>                        <td>css</td>                 <th>  S.D. of innovations</th>    <td>0.011</td>  \n",
       "</tr>\n",
       "<tr>\n",
       "  <th>Date:</th>                   <td>Tue, 07 Apr 2020</td>           <th>  AIC                </th> <td>-31010.399</td>\n",
       "</tr>\n",
       "<tr>\n",
       "  <th>Time:</th>                       <td>03:02:44</td>               <th>  BIC                </th> <td>-30971.277</td>\n",
       "</tr>\n",
       "<tr>\n",
       "  <th>Sample:</th>                         <td>3</td>                  <th>  HQIC               </th> <td>-30996.690</td>\n",
       "</tr>\n",
       "<tr>\n",
       "  <th></th>                                <td> </td>                  <th>                     </th>      <td> </td>    \n",
       "</tr>\n",
       "</table>\n",
       "<table class=\"simpletable\">\n",
       "<tr>\n",
       "                      <td></td>                         <th>coef</th>     <th>std err</th>      <th>z</th>      <th>P>|z|</th>  <th>[0.025</th>    <th>0.975]</th>  \n",
       "</tr>\n",
       "<tr>\n",
       "  <th>const</th>                                     <td>-2.111e-05</td> <td>    0.000</td> <td>   -0.145</td> <td> 0.884</td> <td>   -0.000</td> <td>    0.000</td>\n",
       "</tr>\n",
       "<tr>\n",
       "  <th>ar.L1.D.AUSTRALIA - AUSTRALIAN DOLLAR/US$</th> <td>   -0.1039</td> <td>    0.265</td> <td>   -0.392</td> <td> 0.695</td> <td>   -0.623</td> <td>    0.415</td>\n",
       "</tr>\n",
       "<tr>\n",
       "  <th>ar.L2.D.AUSTRALIA - AUSTRALIAN DOLLAR/US$</th> <td>    0.4682</td> <td>    0.189</td> <td>    2.481</td> <td> 0.013</td> <td>    0.098</td> <td>    0.838</td>\n",
       "</tr>\n",
       "<tr>\n",
       "  <th>ma.L1.D.AUSTRALIA - AUSTRALIAN DOLLAR/US$</th> <td>    0.0458</td> <td>    0.264</td> <td>    0.173</td> <td> 0.862</td> <td>   -0.472</td> <td>    0.563</td>\n",
       "</tr>\n",
       "<tr>\n",
       "  <th>ma.L2.D.AUSTRALIA - AUSTRALIAN DOLLAR/US$</th> <td>   -0.4511</td> <td>    0.176</td> <td>   -2.565</td> <td> 0.010</td> <td>   -0.796</td> <td>   -0.106</td>\n",
       "</tr>\n",
       "</table>\n",
       "<table class=\"simpletable\">\n",
       "<caption>Roots</caption>\n",
       "<tr>\n",
       "    <td></td>   <th>            Real</th>  <th>         Imaginary</th> <th>         Modulus</th>  <th>        Frequency</th>\n",
       "</tr>\n",
       "<tr>\n",
       "  <th>AR.1</th> <td>          -1.3547</td> <td>          +0.0000j</td> <td>           1.3547</td> <td>           0.5000</td>\n",
       "</tr>\n",
       "<tr>\n",
       "  <th>AR.2</th> <td>           1.5766</td> <td>          +0.0000j</td> <td>           1.5766</td> <td>           0.0000</td>\n",
       "</tr>\n",
       "<tr>\n",
       "  <th>MA.1</th> <td>          -1.4391</td> <td>          +0.0000j</td> <td>           1.4391</td> <td>           0.5000</td>\n",
       "</tr>\n",
       "<tr>\n",
       "  <th>MA.2</th> <td>           1.5406</td> <td>          +0.0000j</td> <td>           1.5406</td> <td>           0.0000</td>\n",
       "</tr>\n",
       "</table>"
      ],
      "text/plain": [
       "<class 'statsmodels.iolib.summary.Summary'>\n",
       "\"\"\"\n",
       "                                      ARIMA Model Results                                      \n",
       "===============================================================================================\n",
       "Dep. Variable:     D.AUSTRALIA - AUSTRALIAN DOLLAR/US$   No. Observations:                 5018\n",
       "Model:                                  ARIMA(2, 1, 2)   Log Likelihood               15511.200\n",
       "Method:                                            css   S.D. of innovations              0.011\n",
       "Date:                                 Tue, 07 Apr 2020   AIC                         -31010.399\n",
       "Time:                                         03:02:44   BIC                         -30971.277\n",
       "Sample:                                              3   HQIC                        -30996.690\n",
       "                                                                                               \n",
       "=============================================================================================================\n",
       "                                                coef    std err          z      P>|z|      [0.025      0.975]\n",
       "-------------------------------------------------------------------------------------------------------------\n",
       "const                                     -2.111e-05      0.000     -0.145      0.884      -0.000       0.000\n",
       "ar.L1.D.AUSTRALIA - AUSTRALIAN DOLLAR/US$    -0.1039      0.265     -0.392      0.695      -0.623       0.415\n",
       "ar.L2.D.AUSTRALIA - AUSTRALIAN DOLLAR/US$     0.4682      0.189      2.481      0.013       0.098       0.838\n",
       "ma.L1.D.AUSTRALIA - AUSTRALIAN DOLLAR/US$     0.0458      0.264      0.173      0.862      -0.472       0.563\n",
       "ma.L2.D.AUSTRALIA - AUSTRALIAN DOLLAR/US$    -0.4511      0.176     -2.565      0.010      -0.796      -0.106\n",
       "                                    Roots                                    \n",
       "=============================================================================\n",
       "                  Real          Imaginary           Modulus         Frequency\n",
       "-----------------------------------------------------------------------------\n",
       "AR.1           -1.3547           +0.0000j            1.3547            0.5000\n",
       "AR.2            1.5766           +0.0000j            1.5766            0.0000\n",
       "MA.1           -1.4391           +0.0000j            1.4391            0.5000\n",
       "MA.2            1.5406           +0.0000j            1.5406            0.0000\n",
       "-----------------------------------------------------------------------------\n",
       "\"\"\""
      ]
     },
     "execution_count": 20,
     "metadata": {},
     "output_type": "execute_result"
    }
   ],
   "source": [
    "model=ARIMA(ts1,(2,1,2))\n",
    "model_fit=model.fit(method=\"css\")\n",
    "model_fit.summary()"
   ]
  },
  {
   "cell_type": "code",
   "execution_count": 949,
   "metadata": {},
   "outputs": [],
   "source": [
    "def predict(data,par,p,d,q,size):\n",
    "    \n",
    "    dat=data\n",
    "    \n",
    "    for i in (range(d)):\n",
    "        data=np.diff(data)\n",
    "    \n",
    "    data=data[:-size]\n",
    "    \n",
    "\n",
    "    mod=minimize(ARIMA_css,par,args=(p,d,q,data))\n",
    "    est=mod.x\n",
    "    msg=mod.message\n",
    "\n",
    "    phi=est[1:p+1]\n",
    "    theta=est[p+1:]\n",
    "\n",
    "    res=np.zeros(len(dat))\n",
    "\n",
    "    for i in range(max(p,q),len(data)):\n",
    "        res[i]=data[i]-est[0]-np.dot(data[i-p:i]-est[0],phi)-np.dot(res[i-q:i],theta)\n",
    "\n",
    "\n",
    "    tr_phi=np.zeros(p+1)\n",
    "    tr_phi[0]=1+phi[0]\n",
    "    tr_phi[-1]=phi[-1]\n",
    "    tr_phi[1:p]=np.diff(phi)\n",
    "\n",
    "\n",
    "    n=len(dat)-size\n",
    "    y=np.zeros(size)\n",
    "    forecast=np.zeros(size)\n",
    "    #x=np.zeros((size,p+1))\n",
    "    #z=np.zeros((size,q))\n",
    "    \n",
    "    for i in (range(size)):\n",
    "        y[i]=dat[n+i]\n",
    "        for j in (range(p+1)):\n",
    "            x[i,j]=dat[n+i-j-1]\n",
    "        forecast[i]=est[0]+np.dot(x[i]-est[0],tr_phi)\n",
    "#         res[n+i]=y[i]-est[0]-np.dot(x[i]-est[0],tr_phi)-np.dot(res[n+i-q:n+i],theta)\n",
    "\n",
    "    forecast[0]=forecast[0]+np.dot(res[n-q:n],theta)\n",
    "    \n",
    "#     for i in range(size):\n",
    "#         z[i,:]=res[n+i-q:n+i]\n",
    "\n",
    "#         forecast=est[0]+np.dot(x,tr_phi)+np.dot(z,theta)   \n",
    "    \n",
    "    mse=(y-forecast)@(y-forecast)/len(y)\n",
    "    \n",
    "    return {\"test\":y,\"pred\":forecast,\"mse\":mse, \"par\": est, \"message\": msg}"
   ]
  },
  {
   "cell_type": "code",
   "execution_count": 953,
   "metadata": {},
   "outputs": [],
   "source": [
    "res11=predict(data=ts1,par=[0,0,0],p=1,d=1,q=1,size=100)\n",
    "# res10=predict(data=ts1,par=[0,0],p=1,d=1,q=0,size=100)\n",
    "# res01=predict(data=ts1,par=[0,0],p=0,d=1,q=1,size=100)"
   ]
  },
  {
   "cell_type": "code",
   "execution_count": 960,
   "metadata": {},
   "outputs": [
    {
     "data": {
      "text/plain": [
       "[<matplotlib.lines.Line2D at 0x265b183e278>]"
      ]
     },
     "execution_count": 960,
     "metadata": {},
     "output_type": "execute_result"
    },
    {
     "data": {
      "text/plain": [
       "[<matplotlib.lines.Line2D at 0x265b183e780>]"
      ]
     },
     "execution_count": 960,
     "metadata": {},
     "output_type": "execute_result"
    },
    {
     "data": {
      "image/png": "[encoded data removed]",
      "text/plain": [
       "<Figure size 432x288 with 1 Axes>"
      ]
     },
     "metadata": {
      "needs_background": "light"
     },
     "output_type": "display_data"
    }
   ],
   "source": [
    "plt.plot(res11[\"test\"])\n",
    "plt.plot(res11[\"pred\"]+0.1555)"
   ]
  },
  {
   "cell_type": "code",
   "execution_count": 394,
   "metadata": {},
   "outputs": [],
   "source": [
    "def sig_cons(par):\n",
    "    return par[-1]\n",
    "def beta_cons(par):\n",
    "    return 1-par[0]\n",
    "def beta2_cons(par):\n",
    "    return 1-par[0]**2\n",
    "\n",
    "cons = ({'type': 'ineq', 'fun': sig_cons},\n",
    "        {'type': 'ineq', 'fun': beta_cons},\n",
    "        {'type': 'ineq', 'fun': beta2_cons})"
   ]
  },
  {
   "cell_type": "code",
   "execution_count": 395,
   "metadata": {},
   "outputs": [
    {
     "data": {
      "text/plain": [
       "     fun: nan\n",
       "     jac: array([nan, nan])\n",
       " message: 'Iteration limit exceeded'\n",
       "    nfev: 1002\n",
       "     nit: 101\n",
       "    njev: 99\n",
       "  status: 9\n",
       " success: False\n",
       "       x: array([nan, nan])"
      ]
     },
     "execution_count": 395,
     "metadata": {},
     "output_type": "execute_result"
    }
   ],
   "source": [
    "minimize(AR1_SS,np.array([0.5,0.01]),args=(np.diff(ts1)),constraints=cons, method=\"SLSQP\")"
   ]
  },
  {
   "cell_type": "code",
   "execution_count": 255,
   "metadata": {},
   "outputs": [],
   "source": [
    "def log_lik(par, data, k):\n",
    "    beta=par[:k+1]\n",
    "    sig=par[-1]\n",
    "    phi=0\n",
    "    for i in range(1,len(beta)):\n",
    "        phi=phi+beta[i]\n",
    "    init_mu=beta[0]/(1-phi)\n",
    "    phi2=0\n",
    "    for i in range(1,len(beta)):\n",
    "        phi2=phi2+beta[i]**2\n",
    "    init_sig=sig/(1-phi2)\n",
    "    init_loglik=-0.5*np.log(init_sig)-0.5*(1/init_sig)*(data[0]-init_mu)**2\n",
    "    y=np.zeros(len(data)-k)\n",
    "    x=np.zeros([len(data)-k,k])\n",
    "    for i in range(k,len(data)):\n",
    "        y[i-k]=data[i]\n",
    "        x[i-k,0]=data[i-1]\n",
    "        for j in range(1,k):\n",
    "            x[i-k,j]=data[i-j]\n",
    "    x=np.hstack((np.ones([x.shape[0],1]),x))\n",
    "    exact_loglik=init_loglik\n",
    "    for i in range(1,len(y)):\n",
    "        exact_loglik=exact_loglik-0.5*np.log(sig)-0.5*(1/sig)*(y[i]-np.matmul(x[i,],beta))**2\n",
    "    return -exact_loglik"
   ]
  },
  {
   "cell_type": "code",
   "execution_count": 256,
   "metadata": {},
   "outputs": [],
   "source": [
    "def sig_cons(par):\n",
    "    return par[len(par)-1]\n",
    "def beta_cons(par):\n",
    "    return 1-np.sum(par[:-1])\n",
    "def beta2_cons(par):\n",
    "    return 1-np.sum(par[:-1]**2)"
   ]
  },
  {
   "cell_type": "code",
   "execution_count": 257,
   "metadata": {},
   "outputs": [],
   "source": [
    "cons = ({'type': 'ineq', 'fun': sig_cons},\n",
    "        {'type': 'ineq', 'fun': beta_cons},\n",
    "        {'type': 'ineq', 'fun': beta2_cons})"
   ]
  },
  {
   "cell_type": "code",
   "execution_count": 261,
   "metadata": {},
   "outputs": [
    {
     "data": {
      "text/plain": [
       "     fun: -20118.213501329283\n",
       "     jac: array([-1.43457031e+00, -1.22070312e-02,  2.02194824e+02])\n",
       " message: 'Optimization terminated successfully.'\n",
       "    nfev: 238\n",
       "     nit: 40\n",
       "    njev: 40\n",
       "  status: 0\n",
       " success: True\n",
       "       x: array([-2.05376346e-05, -5.17930978e-02,  1.20957692e-04])"
      ]
     },
     "execution_count": 261,
     "metadata": {},
     "output_type": "execute_result"
    }
   ],
   "source": [
    "mod1=minimize(log_lik,np.array([0.1,0.1,0.5]),args=(np.diff(ts1),1),constraints=cons,method='SLSQP')\n",
    "aic1=2*3+2*mod1.fun\n",
    "mod1"
   ]
  },
  {
   "cell_type": "code",
   "execution_count": 14,
   "metadata": {},
   "outputs": [
    {
     "data": {
      "text/plain": [
       "     fun: -20113.731168966664\n",
       "     jac: array([-0.26367188, -0.01025391, -0.01025391, -3.24023438])\n",
       " message: 'Optimization terminated successfully.'\n",
       "    nfev: 208\n",
       "     nit: 30\n",
       "    njev: 30\n",
       "  status: 0\n",
       " success: True\n",
       "       x: array([-2.10194798e-05, -2.59031290e-02, -2.59031290e-02,  1.20979309e-04])"
      ]
     },
     "execution_count": 14,
     "metadata": {},
     "output_type": "execute_result"
    }
   ],
   "source": [
    "mod2=minimize(log_lik,np.array([0.1,0.1,0.1,0.5]),args=(np.diff(ts1),2),constraints=cons,method='SLSQP')\n",
    "aic2=2*3+2*mod2.fun\n",
    "mod2"
   ]
  },
  {
   "cell_type": "code",
   "execution_count": 195,
   "metadata": {},
   "outputs": [
    {
     "data": {
      "text/plain": [
       "     fun: -20109.576919012918\n",
       "     jac: array([-8.54003906e-01,  2.09960938e-02,  2.09960938e-02,  2.19726562e-02,\n",
       "       -6.51350098e+01])\n",
       " message: 'Optimization terminated successfully.'\n",
       "    nfev: 223\n",
       "     nit: 28\n",
       "    njev: 26\n",
       "  status: 0\n",
       " success: True\n",
       "       x: array([-2.04378744e-05, -2.55014858e-02, -2.56864964e-02,  1.16986621e-02,\n",
       "        1.20985910e-04])"
      ]
     },
     "execution_count": 195,
     "metadata": {},
     "output_type": "execute_result"
    }
   ],
   "source": [
    "mod3=minimize(log_lik,np.array([-0.1,0.2,0.1,0.1,0.5]),args=(np.diff(ts1),3),constraints=cons,method='SLSQP')\n",
    "aic3=2*3+2*mod3.fun\n",
    "mod3"
   ]
  },
  {
   "cell_type": "code",
   "execution_count": 16,
   "metadata": {},
   "outputs": [
    {
     "data": {
      "text/plain": [
       "     fun: -20110.292040937893\n",
       "     jac: array([-1.75512695e+00,  6.32324219e-02,  6.34765625e-02, -2.63671875e-02,\n",
       "        3.34472656e-02,  8.72734619e+02])\n",
       " message: 'Optimization terminated successfully.'\n",
       "    nfev: 454\n",
       "     nit: 49\n",
       "    njev: 49\n",
       "  status: 0\n",
       " success: True\n",
       "       x: array([-2.07089080e-05, -2.53866306e-02, -2.52729417e-02,  9.36827961e-03,\n",
       "       -4.54510246e-02,  1.20763495e-04])"
      ]
     },
     "execution_count": 16,
     "metadata": {},
     "output_type": "execute_result"
    }
   ],
   "source": [
    "mod4=minimize(log_lik,np.array([-0.1,-0.1,-0.1,0.1,0.1,0.5]),args=(np.diff(ts1),4),constraints=cons,method='SLSQP')\n",
    "aic4=2*3+2*mod4.fun\n",
    "mod4"
   ]
  },
  {
   "cell_type": "code",
   "execution_count": 17,
   "metadata": {},
   "outputs": [
    {
     "data": {
      "text/plain": [
       "     fun: -20111.174969007323\n",
       "     jac: array([-2.84912109e-01,  1.04980469e-02,  1.07421875e-02, -1.14746094e-02,\n",
       "        6.10351562e-03, -4.63867188e-03,  1.72678223e+01])\n",
       " message: 'Optimization terminated successfully.'\n",
       "    nfev: 341\n",
       "     nit: 35\n",
       "    njev: 34\n",
       "  status: 0\n",
       " success: True\n",
       "       x: array([-1.91269539e-05, -2.44836224e-02, -2.41036516e-02,  8.93431698e-03,\n",
       "       -4.30963949e-02,  4.61717207e-02,  1.20522917e-04])"
      ]
     },
     "execution_count": 17,
     "metadata": {},
     "output_type": "execute_result"
    }
   ],
   "source": [
    "mod5=minimize(log_lik,np.array([-0.1,-0.1,0.1,0.1,0.1,0.1,0.5]),args=(np.diff(ts1),5),constraints=cons,method='SLSQP')\n",
    "aic5=2*3+2*mod5.fun\n",
    "mod5"
   ]
  },
  {
   "cell_type": "code",
   "execution_count": 185,
   "metadata": {},
   "outputs": [],
   "source": [
    "def predict(data,k,test):\n",
    "    y=np.zeros(len(data)-k)\n",
    "    x=np.zeros([len(data)-k,k])\n",
    "    for i in range(k,len(data)):\n",
    "        y[i-k]=data[i]\n",
    "        for j in range(k):\n",
    "            x[i-k,j]=data[i-j-1]\n",
    "    x=np.hstack((np.ones([x.shape[0],1]),x))\n",
    "    beta=np.matmul(np.linalg.inv(np.matmul(np.matrix.transpose(x),x)),np.matmul(np.matrix.transpose(x),y))\n",
    "    y=np.zeros(test)\n",
    "    x=np.zeros([test,k])\n",
    "    for i in range(test):\n",
    "        y[i]=data[test+i]\n",
    "        for j in range(k):\n",
    "            x[i,j]=data[test+i-1-j]\n",
    "    x=np.hstack((np.ones([x.shape[0],1]),x))\n",
    "    forecast=x@beta\n",
    "    mse=(y-forecast)@(y-forecast)/len(y)\n",
    "    return {\"test\":y,\"pred\":forecast,\"mse\":mse,\"par\":beta}"
   ]
  },
  {
   "cell_type": "code",
   "execution_count": 189,
   "metadata": {},
   "outputs": [
    {
     "data": {
      "text/plain": [
       "array([-2.27765491e-05, -5.06731615e-02,  9.35335332e-03, -4.54941234e-02])"
      ]
     },
     "execution_count": 189,
     "metadata": {},
     "output_type": "execute_result"
    }
   ],
   "source": [
    "rs3=predict(np.diff(ts1),3,100)\n",
    "rs3[\"par\"]"
   ]
  },
  {
   "cell_type": "code",
   "execution_count": 187,
   "metadata": {},
   "outputs": [
    {
     "data": {
      "text/plain": [
       "[<matplotlib.lines.Line2D at 0x265ad421748>]"
      ]
     },
     "execution_count": 187,
     "metadata": {},
     "output_type": "execute_result"
    },
    {
     "data": {
      "text/plain": [
       "[<matplotlib.lines.Line2D at 0x265ad421c88>]"
      ]
     },
     "execution_count": 187,
     "metadata": {},
     "output_type": "execute_result"
    },
    {
     "data": {
      "image/png": "[encoded data removed]",
      "text/plain": [
       "<Figure size 432x288 with 1 Axes>"
      ]
     },
     "metadata": {
      "needs_background": "light"
     },
     "output_type": "display_data"
    }
   ],
   "source": [
    "rs4=predict(np.diff(ts1),4,100)\n",
    "plt.plot(rs4[\"pred\"])\n",
    "plt.plot(rs4[\"test\"])"
   ]
  },
  {
   "cell_type": "code",
   "execution_count": 181,
   "metadata": {},
   "outputs": [
    {
     "ename": "IndexError",
     "evalue": "only integers, slices (`:`), ellipsis (`...`), numpy.newaxis (`None`) and integer or boolean arrays are valid indices",
     "output_type": "error",
     "traceback": [
      "\u001b[1;31m---------------------------------------------------------------------------\u001b[0m",
      "\u001b[1;31mIndexError\u001b[0m                                Traceback (most recent call last)",
      "\u001b[1;32m<ipython-input-181-adca8b4a954e>\u001b[0m in \u001b[0;36m<module>\u001b[1;34m\u001b[0m\n\u001b[1;32m----> 1\u001b[1;33m \u001b[0mplt\u001b[0m\u001b[1;33m.\u001b[0m\u001b[0mplot\u001b[0m\u001b[1;33m(\u001b[0m\u001b[0mrs4\u001b[0m\u001b[1;33m[\u001b[0m\u001b[1;34m\"test\"\u001b[0m\u001b[1;33m]\u001b[0m\u001b[1;33m)\u001b[0m\u001b[1;33m\u001b[0m\u001b[1;33m\u001b[0m\u001b[0m\n\u001b[0m\u001b[0;32m      2\u001b[0m \u001b[0mplt\u001b[0m\u001b[1;33m.\u001b[0m\u001b[0mplot\u001b[0m\u001b[1;33m(\u001b[0m\u001b[0mrs4\u001b[0m\u001b[1;33m[\u001b[0m\u001b[1;34m\"pred\"\u001b[0m\u001b[1;33m]\u001b[0m\u001b[1;33m)\u001b[0m\u001b[1;33m\u001b[0m\u001b[1;33m\u001b[0m\u001b[0m\n\u001b[0;32m      3\u001b[0m \u001b[0mplt\u001b[0m\u001b[1;33m.\u001b[0m\u001b[0mshow\u001b[0m\u001b[1;33m(\u001b[0m\u001b[1;33m)\u001b[0m\u001b[1;33m\u001b[0m\u001b[1;33m\u001b[0m\u001b[0m\n",
      "\u001b[1;31mIndexError\u001b[0m: only integers, slices (`:`), ellipsis (`...`), numpy.newaxis (`None`) and integer or boolean arrays are valid indices"
     ]
    }
   ],
   "source": [
    "plt.plot(rs4[\"test\"])\n",
    "plt.plot(rs4[\"pred\"])\n",
    "plt.show()"
   ]
  },
  {
   "cell_type": "code",
   "execution_count": null,
   "metadata": {},
   "outputs": [],
   "source": []
  },
  {
   "cell_type": "code",
   "execution_count": 153,
   "metadata": {},
   "outputs": [
    {
     "data": {
      "text/plain": [
       "array([-2.15578448e-05, -1.03947530e+00, -1.17144008e-02])"
      ]
     },
     "execution_count": 153,
     "metadata": {},
     "output_type": "execute_result"
    }
   ],
   "source": [
    "k=2\n",
    "data=np.diff(ts1)\n",
    "y=np.zeros(len(data)-k)\n",
    "x=np.zeros([len(data)-k,k])\n",
    "for i in range(k,len(data)):\n",
    "    y[i-k]=data[i]-data[i-1]\n",
    "    x[i-k,0]=data[i-1]\n",
    "    for j in range(1,k):\n",
    "        x[i-k,j]=data[i-j]-data[i-j-1]\n",
    "x=np.hstack((np.ones([x.shape[0],1]),x))\n",
    "beta=np.matmul(np.linalg.inv(np.matmul(np.matrix.transpose(x),x)),np.matmul(np.matrix.transpose(x),y))\n",
    "beta"
   ]
  },
  {
   "cell_type": "code",
   "execution_count": 195,
   "metadata": {},
   "outputs": [
    {
     "data": {
      "text/plain": [
       "40238.427001034885"
      ]
     },
     "execution_count": 195,
     "metadata": {},
     "output_type": "execute_result"
    },
    {
     "data": {
      "text/plain": [
       "40231.46233793333"
      ]
     },
     "execution_count": 195,
     "metadata": {},
     "output_type": "execute_result"
    },
    {
     "data": {
      "text/plain": [
       "40225.153843607404"
      ]
     },
     "execution_count": 195,
     "metadata": {},
     "output_type": "execute_result"
    },
    {
     "data": {
      "text/plain": [
       "40228.584081875786"
      ]
     },
     "execution_count": 195,
     "metadata": {},
     "output_type": "execute_result"
    },
    {
     "data": {
      "text/plain": [
       "40232.349938014646"
      ]
     },
     "execution_count": 195,
     "metadata": {},
     "output_type": "execute_result"
    }
   ],
   "source": [
    "aic1=2*1-2*mod1.fun\n",
    "aic2=2*2-2*mod2.fun\n",
    "aic3=2*3-2*mod3.fun\n",
    "aic4=2*4-2*mod4.fun\n",
    "aic5=2*5-2*mod5.fun\n",
    "aic1\n",
    "aic2\n",
    "aic3\n",
    "aic4\n",
    "aic5"
   ]
  },
  {
   "cell_type": "markdown",
   "metadata": {},
   "source": [
    "#### Serial correlation check"
   ]
  },
  {
   "cell_type": "code",
   "execution_count": 19,
   "metadata": {},
   "outputs": [
    {
     "data": {
      "text/plain": [
       "array([ 0.00686374,  0.00294354,  0.00232096, ..., -0.00135613,\n",
       "       -0.00379471, -0.00825486])"
      ]
     },
     "execution_count": 19,
     "metadata": {},
     "output_type": "execute_result"
    }
   ],
   "source": [
    "def res(data,beta):\n",
    "    k=len(beta)-1\n",
    "    y=np.zeros(len(data)-k)\n",
    "    x=np.zeros([len(data)-k,k])\n",
    "    for i in range(len(data)-k):\n",
    "        y[i]=data[i]\n",
    "        for j in range(k):\n",
    "            x[i,j]=data[i+j+1]\n",
    "    x=np.hstack((np.ones([x.shape[0],1]),x))\n",
    "    ehat=y-np.matmul(x,beta)\n",
    "    return ehat\n",
    "res(np.diff(ts1),mod1.x)"
   ]
  },
  {
   "cell_type": "code",
   "execution_count": 33,
   "metadata": {},
   "outputs": [
    {
     "data": {
      "text/plain": [
       "array([ 0.00085173,  0.00909894, -0.04362031])"
      ]
     },
     "execution_count": 33,
     "metadata": {},
     "output_type": "execute_result"
    },
    {
     "data": {
      "text/plain": [
       "array([[ 1.99235830e-04, -8.58478221e-08, -1.80699192e-06],\n",
       "       [-8.58478221e-08,  1.99217600e-04, -9.39533699e-08],\n",
       "       [-1.80699192e-06, -9.39533699e-08,  1.99213348e-04]])"
      ]
     },
     "execution_count": 33,
     "metadata": {},
     "output_type": "execute_result"
    }
   ],
   "source": [
    "k=3\n",
    "w=res(np.diff(ts1),mod1.x)\n",
    "y=np.zeros(len(w)-k)\n",
    "x=np.zeros([len(w)-k,k])\n",
    "for i in range(len(w)-k):\n",
    "    y[i]=w[i]\n",
    "    for j in range(k):\n",
    "        x[i,j]=w[i+j+1]\n",
    "theta=np.matmul(np.linalg.inv(np.matmul(np.matrix.transpose(x),x)),np.matmul(np.matrix.transpose(x),y))\n",
    "theta\n",
    "w_res=y-np.matmul(x,theta)\n",
    "res_sd=np.matmul(np.ones(len(w_res)),w_res*w_res)/(len(w_res)-k)\n",
    "theta_sd=res_sd*np.linalg.inv(np.matmul(np.matrix.transpose(x),x))\n",
    "theta_sd"
   ]
  },
  {
   "cell_type": "code",
   "execution_count": 34,
   "metadata": {},
   "outputs": [
    {
     "data": {
      "text/plain": [
       "9.965989471173836"
      ]
     },
     "execution_count": 34,
     "metadata": {},
     "output_type": "execute_result"
    }
   ],
   "source": [
    "R=np.identity(k)\n",
    "r=np.zeros(k)\n",
    "w1=np.matrix.transpose((np.matmul(R,theta)-r))\n",
    "w2=np.linalg.inv(np.matmul(np.matmul(R,theta_sd),np.matrix.transpose(R)))\n",
    "w3=np.matmul(R,theta)-r\n",
    "wald=np.matmul(np.matmul(w1,w2),w3)\n",
    "wald"
   ]
  },
  {
   "cell_type": "code",
   "execution_count": 35,
   "metadata": {},
   "outputs": [
    {
     "data": {
      "text/plain": [
       "0.018857460788552327"
      ]
     },
     "execution_count": 35,
     "metadata": {},
     "output_type": "execute_result"
    }
   ],
   "source": [
    "1-stats.chi2.cdf(wald,k)"
   ]
  },
  {
   "cell_type": "markdown",
   "metadata": {},
   "source": [
    "#### ACF and PACF"
   ]
  },
  {
   "cell_type": "code",
   "execution_count": 23,
   "metadata": {},
   "outputs": [
    {
     "data": {
      "text/plain": [
       "<BarContainer object of 30 artists>"
      ]
     },
     "execution_count": 23,
     "metadata": {},
     "output_type": "execute_result"
    },
    {
     "data": {
      "text/plain": [
       "[<matplotlib.lines.Line2D at 0x277b3f65fd0>]"
      ]
     },
     "execution_count": 23,
     "metadata": {},
     "output_type": "execute_result"
    },
    {
     "data": {
      "text/plain": [
       "[<matplotlib.lines.Line2D at 0x277b31657b8>]"
      ]
     },
     "execution_count": 23,
     "metadata": {},
     "output_type": "execute_result"
    },
    {
     "data": {
      "text/plain": [
       "[<matplotlib.lines.Line2D at 0x277b31a8ef0>]"
      ]
     },
     "execution_count": 23,
     "metadata": {},
     "output_type": "execute_result"
    },
    {
     "data": {
      "image/png": "[encoded data removed]",
      "text/plain": [
       "<Figure size 432x288 with 1 Axes>"
      ]
     },
     "metadata": {
      "needs_background": "light"
     },
     "output_type": "display_data"
    }
   ],
   "source": [
    "resid=np.diff(ts1)\n",
    "ACF=np.zeros(30)\n",
    "ACF[0]=stats.pearsonr(resid,resid)[0]\n",
    "for i in range(1,len(ACF)):\n",
    "    lag=resid[i:]\n",
    "    new_res=resid[:len(lag)]\n",
    "    ACF[i]=stats.pearsonr(new_res,lag)[0]\n",
    "\n",
    "plt.bar(range(len(ACF)), ACF, width=0, ec=\"k\");\n",
    "plt.plot(range(len(ACF)),np.ones(30)*(1.96/(len(np.diff(ts1)))**0.5),linestyle='dashed',color=\"blue\");\n",
    "plt.plot(range(len(ACF)),-np.ones(30)*(1.96/(len(np.diff(ts1)))**0.5),linestyle='dashed',color=\"blue\");\n",
    "plt.plot(range(len(ACF)),np.zeros(30),linestyle='solid',color=\"black\",linewidth=1);\n",
    "plt.show()"
   ]
  },
  {
   "cell_type": "code",
   "execution_count": 24,
   "metadata": {},
   "outputs": [
    {
     "data": {
      "text/plain": [
       "<BarContainer object of 25 artists>"
      ]
     },
     "execution_count": 24,
     "metadata": {},
     "output_type": "execute_result"
    },
    {
     "data": {
      "text/plain": [
       "[<matplotlib.lines.Line2D at 0x277b341a860>]"
      ]
     },
     "execution_count": 24,
     "metadata": {},
     "output_type": "execute_result"
    },
    {
     "data": {
      "text/plain": [
       "[<matplotlib.lines.Line2D at 0x277b321a198>]"
      ]
     },
     "execution_count": 24,
     "metadata": {},
     "output_type": "execute_result"
    },
    {
     "data": {
      "text/plain": [
       "[<matplotlib.lines.Line2D at 0x277b324e470>]"
      ]
     },
     "execution_count": 24,
     "metadata": {},
     "output_type": "execute_result"
    },
    {
     "data": {
      "image/png": "[encoded data removed]",
      "text/plain": [
       "<Figure size 432x288 with 1 Axes>"
      ]
     },
     "metadata": {
      "needs_background": "light"
     },
     "output_type": "display_data"
    }
   ],
   "source": [
    "w=np.diff(ts1)\n",
    "PACF=np.zeros(25)\n",
    "for k in range(1,len(PACF)):\n",
    "    y=np.zeros(len(w)-k)\n",
    "    x=np.zeros([len(w)-k,k])\n",
    "    for i in range(len(w)-k):\n",
    "        y[i]=w[i]\n",
    "        for j in range(k):\n",
    "            x[i,j]=w[i+j+1]\n",
    "    theta=np.matmul(np.linalg.inv(np.matmul(np.matrix.transpose(x),x)),np.matmul(np.matrix.transpose(x),y))\n",
    "    PACF[k]=theta[k-1]\n",
    "plt.bar(range(len(PACF)), PACF, width=0, ec=\"k\");\n",
    "plt.plot(range(len(PACF)),np.ones(25)*(1.96/(len(np.diff(ts1)))**0.5),linestyle='dashed',color=\"blue\");\n",
    "plt.plot(range(len(PACF)),-np.ones(25)*(1.96/(len(np.diff(ts1)))**0.5),linestyle='dashed',color=\"blue\");\n",
    "plt.plot(range(len(PACF)),np.zeros(25),linestyle='solid',color=\"black\",linewidth=1);\n",
    "plt.show()"
   ]
  },
  {
   "cell_type": "markdown",
   "metadata": {},
   "source": [
    "### MA(q=2) model"
   ]
  },
  {
   "cell_type": "code",
   "execution_count": 135,
   "metadata": {},
   "outputs": [],
   "source": [
    "def MA(par):\n",
    "    beta=par[:-1]\n",
    "    sig=par[len(par)-1]\n",
    "    data=np.diff(ts1)\n",
    "    q=2\n",
    "    rho1=ACF[1]\n",
    "    rho2=ACF[2]\n",
    "    rat=rho1/rho2\n",
    "    #theta2=(-rat+(rat**2-4*(rho1*rat+rho1-rat)*rho1))/(2*((rho1*rat+rho1-rat)))\n",
    "    theta2=-0.25 # Here, we are just taking a value for theta: The recommeneded initial value of theta can be \n",
    "    theta1=0.50  # found in Box Jenkins book\n",
    "    et=np.zeros(len(data))\n",
    "    for i in range(q+1,len(data)):\n",
    "        et[i]=data[i]+theta1*et[i-1]+theta2*et[i-2]\n",
    "    y=np.zeros(len(data)-q)\n",
    "    x=np.zeros([len(data)-q,q])\n",
    "    for i in range(q+1,len(data)-q):\n",
    "        y[i]=data[i]\n",
    "        for j in range(q):\n",
    "            x[i,j]=et[i+j+1]\n",
    "    tot_loglik=0\n",
    "    for i in range(1,len(y)):\n",
    "        tot_loglik=tot_loglik-0.5*np.log(sig)-0.5*(1/sig)*(y[i]-np.matmul(x[i,],beta))**2\n",
    "    return -tot_loglik"
   ]
  },
  {
   "cell_type": "code",
   "execution_count": 136,
   "metadata": {},
   "outputs": [],
   "source": [
    "def sig_cons(par):\n",
    "    return par[len(par)-1]"
   ]
  },
  {
   "cell_type": "code",
   "execution_count": 137,
   "metadata": {},
   "outputs": [],
   "source": [
    "cons = ({'type': 'ineq', 'fun': sig_cons})"
   ]
  },
  {
   "cell_type": "code",
   "execution_count": 138,
   "metadata": {},
   "outputs": [
    {
     "name": "stderr",
     "output_type": "stream",
     "text": [
      "C:\\Users\\Shakil\\Anaconda3\\lib\\site-packages\\ipykernel_launcher.py:23: RuntimeWarning: invalid value encountered in log\n"
     ]
    },
    {
     "data": {
      "text/plain": [
       "     fun: -20637.89641017618\n",
       "     jac: array([1.07421875e-02, 8.78906250e-03, 3.66255615e+02])\n",
       " message: 'Optimization terminated successfully.'\n",
       "    nfev: 117\n",
       "     nit: 19\n",
       "    njev: 19\n",
       "  status: 0\n",
       " success: True\n",
       "       x: array([ 4.26306665e-01, -1.61715316e-01,  9.80013933e-05])"
      ]
     },
     "execution_count": 138,
     "metadata": {},
     "output_type": "execute_result"
    }
   ],
   "source": [
    "minimize(MA,np.array([0.2,0.2,0.5]),constraints=cons,method='SLSQP')"
   ]
  },
  {
   "cell_type": "markdown",
   "metadata": {},
   "source": [
    "### ARIMA (p,d,q) model"
   ]
  },
  {
   "cell_type": "code",
   "execution_count": 167,
   "metadata": {},
   "outputs": [],
   "source": [
    "def ARIMA(par,p,d,q,data):\n",
    "    \n",
    "    for i in (range(d)):\n",
    "        data=np.diff(data)\n",
    "    \n",
    "    y=np.zeros(len(data)-np.maximum(p,q))\n",
    "    x=np.zeros([len(data)-np.maximum(p,q),p])\n",
    "    \n",
    "    for i in range(len(data)-np.maximum(p,q)):\n",
    "        y[i]=data[i]\n",
    "        for j in range(p):\n",
    "            x[i,j]=data[i+j+1]\n",
    "    x=np.hstack((np.ones([x.shape[0],1]),x))\n",
    "    theta=np.matmul(np.linalg.inv(np.matmul(np.matrix.transpose(x),x)),np.matmul(np.matrix.transpose(x),y))\n",
    "    res=y-np.matmul(x,theta)\n",
    "    z=np.zeros([len(data)-np.maximum(p,q),q])\n",
    "    for i in range(len(data)-np.maximum(p,q)):\n",
    "        for j in range(q):\n",
    "            z[i,j]=res[i+j]\n",
    "    x=np.hstack((x,z))\n",
    "    \n",
    "    beta=par[:-1]\n",
    "    sig=par[len(par)-1]\n",
    "    phi=0\n",
    "    for i in range(p):\n",
    "        phi=phi+beta[i]\n",
    "    init_mu=beta[0]/(1-phi)\n",
    "    phi2=0\n",
    "    for i in range(p):\n",
    "        phi2=phi2+beta[i]**2\n",
    "    init_sig=sig/(1-phi2)\n",
    "    init_loglik=-0.5*np.log(init_sig)-0.5*(1/init_sig)*(data[0]-init_mu)**2\n",
    "    exact_loglik=init_loglik\n",
    "    for i in range(1,len(y)):\n",
    "        exact_loglik=exact_loglik-0.5*np.log(sig)-0.5*(1/sig)*(y[i]-np.matmul(x[i,],beta))**2\n",
    "    return -exact_loglik"
   ]
  },
  {
   "cell_type": "code",
   "execution_count": 168,
   "metadata": {},
   "outputs": [],
   "source": [
    "q=1\n",
    "def sig_cons(par):\n",
    "    return par[len(par)-1]\n",
    "def beta_cons(par):\n",
    "    return 1-np.sum(par[:-1-q])\n",
    "def beta2_cons(par):\n",
    "    return 1-np.sum(par[:-1-q]**2)"
   ]
  },
  {
   "cell_type": "code",
   "execution_count": 169,
   "metadata": {},
   "outputs": [],
   "source": [
    "cons = ({'type': 'ineq', 'fun': sig_cons},\n",
    "        {'type': 'ineq', 'fun': beta_cons},\n",
    "        {'type': 'ineq', 'fun': beta2_cons})"
   ]
  },
  {
   "cell_type": "code",
   "execution_count": 196,
   "metadata": {},
   "outputs": [
    {
     "name": "stderr",
     "output_type": "stream",
     "text": [
      "C:\\Users\\Shakil\\Anaconda3\\lib\\site-packages\\ipykernel_launcher.py:39: RuntimeWarning: invalid value encountered in log\n",
      "C:\\Users\\Shakil\\Anaconda3\\lib\\site-packages\\ipykernel_launcher.py:36: RuntimeWarning: invalid value encountered in log\n",
      "C:\\Users\\Shakil\\Anaconda3\\lib\\site-packages\\ipykernel_launcher.py:36: RuntimeWarning: divide by zero encountered in log\n",
      "C:\\Users\\Shakil\\Anaconda3\\lib\\site-packages\\ipykernel_launcher.py:36: RuntimeWarning: divide by zero encountered in double_scalars\n",
      "C:\\Users\\Shakil\\Anaconda3\\lib\\site-packages\\ipykernel_launcher.py:36: RuntimeWarning: invalid value encountered in double_scalars\n",
      "C:\\Users\\Shakil\\Anaconda3\\lib\\site-packages\\ipykernel_launcher.py:39: RuntimeWarning: divide by zero encountered in log\n",
      "C:\\Users\\Shakil\\Anaconda3\\lib\\site-packages\\ipykernel_launcher.py:39: RuntimeWarning: divide by zero encountered in double_scalars\n"
     ]
    },
    {
     "data": {
      "text/plain": [
       "     fun: -43908.83534352946\n",
       "     jac: array([3.02442506e+06, 7.26785586e+04, 7.30264404e+03, 5.29257630e+10])\n",
       " message: 'Optimization terminated successfully.'\n",
       "    nfev: 682\n",
       "     nit: 94\n",
       "    njev: 93\n",
       "  status: 0\n",
       " success: True\n",
       "       x: array([-1.26100400e-05, -5.07904778e-02,  1.00009799e+00,  8.13407269e-09])"
      ]
     },
     "execution_count": 196,
     "metadata": {},
     "output_type": "execute_result"
    }
   ],
   "source": [
    "minimize(ARIMA,np.array([-0.01,-0.01,0.001,0.5]),constraints=cons,args=(1,1,1,ts1),method='SLSQP')"
   ]
  },
  {
   "cell_type": "code",
   "execution_count": null,
   "metadata": {},
   "outputs": [],
   "source": []
  },
  {
   "cell_type": "code",
   "execution_count": null,
   "metadata": {},
   "outputs": [],
   "source": []
  },
  {
   "cell_type": "code",
   "execution_count": null,
   "metadata": {},
   "outputs": [],
   "source": []
  },
  {
   "cell_type": "code",
   "execution_count": null,
   "metadata": {},
   "outputs": [],
   "source": []
  },
  {
   "cell_type": "code",
   "execution_count": null,
   "metadata": {},
   "outputs": [],
   "source": []
  },
  {
   "cell_type": "code",
   "execution_count": 179,
   "metadata": {},
   "outputs": [],
   "source": [
    "def log_lik(par):\n",
    "    data=np.diff(ts2)\n",
    "    beta=par[:-1]\n",
    "    sig=par[len(par)-1]\n",
    "    phi=0\n",
    "    for i in range(1,len(beta)):\n",
    "        phi=phi+beta[i]\n",
    "    init_mu=beta[0]/(1-phi)\n",
    "    phi2=0\n",
    "    for i in range(1,len(beta)):\n",
    "        phi2=phi2+beta[i]**2\n",
    "    init_sig=sig/(1-phi2)\n",
    "    init_loglik=-0.5*np.log(init_sig)-0.5*(1/init_sig)*(data[0]-init_mu)**2\n",
    "    k=len(beta)-1\n",
    "    y=np.zeros(len(data)-k)\n",
    "    x=np.zeros([len(data)-k,k])\n",
    "    for i in range(len(data)-k):\n",
    "        y[i]=data[i]\n",
    "        for j in range(k):\n",
    "            x[i,j]=data[i+j+1]\n",
    "    x=np.hstack((np.ones([x.shape[0],1]),x))\n",
    "    exact_loglik=init_loglik\n",
    "    for i in range(1,len(y)):\n",
    "        exact_loglik=exact_loglik-0.5*np.log(sig)-0.5*(1/sig)*(y[i]-np.matmul(x[i,],beta))**2\n",
    "    return -exact_loglik"
   ]
  },
  {
   "cell_type": "code",
   "execution_count": 180,
   "metadata": {},
   "outputs": [],
   "source": [
    "def sig_cons(par):\n",
    "    return par[len(par)-1]\n",
    "def beta_cons(par):\n",
    "    return 1-np.sum(par[:-1])\n",
    "def beta2_cons(par):\n",
    "    return 1-np.sum(par[:-1]**2)"
   ]
  },
  {
   "cell_type": "code",
   "execution_count": 181,
   "metadata": {},
   "outputs": [],
   "source": [
    "cons = ({'type': 'ineq', 'fun': sig_cons},\n",
    "        {'type': 'ineq', 'fun': beta_cons},\n",
    "        {'type': 'ineq', 'fun': beta2_cons})"
   ]
  },
  {
   "cell_type": "code",
   "execution_count": 190,
   "metadata": {},
   "outputs": [
    {
     "data": {
      "text/plain": [
       "     fun: -23870.507677534482\n",
       "     jac: array([-2.07058105e+01, -5.09765625e-01,  1.21943728e+04])\n",
       " message: 'Optimization terminated successfully.'\n",
       "    nfev: 362\n",
       "     nit: 57\n",
       "    njev: 57\n",
       "  status: 0\n",
       " success: True\n",
       "       x: array([-1.85649021e-05,  1.05694462e-02,  2.70995781e-05])"
      ]
     },
     "execution_count": 190,
     "metadata": {},
     "output_type": "execute_result"
    }
   ],
   "source": [
    "mod1=minimize(log_lik,np.array([-0.1,0.2,1]),constraints=cons,method='SLSQP')\n",
    "aic1=2*3+2*mod1.fun\n",
    "mod1"
   ]
  },
  {
   "cell_type": "code",
   "execution_count": 194,
   "metadata": {},
   "outputs": [
    {
     "data": {
      "text/plain": [
       "     fun: -23866.102090142773\n",
       "     jac: array([ 4.28515625e+00,  7.32421875e-03, -1.46484375e-02, -4.23796875e+02])\n",
       " message: 'Optimization terminated successfully.'\n",
       "    nfev: 303\n",
       "     nit: 43\n",
       "    njev: 42\n",
       "  status: 0\n",
       " success: True\n",
       "       x: array([-1.79554487e-05,  1.08248532e-02, -1.60284330e-02,  2.70920757e-05])"
      ]
     },
     "execution_count": 194,
     "metadata": {},
     "output_type": "execute_result"
    }
   ],
   "source": [
    "mod2=minimize(log_lik,np.array([-0.1,0.2,-0.1,1]),constraints=cons,method='SLSQP')\n",
    "aic2=2*3+2*mod2.fun\n",
    "mod2"
   ]
  },
  {
   "cell_type": "code",
   "execution_count": 196,
   "metadata": {},
   "outputs": [
    {
     "data": {
      "text/plain": [
       "     fun: -23861.472885376283\n",
       "     jac: array([ 7.64355469e+00,  1.78222656e-02, -9.66796875e-02,  1.24511719e-02,\n",
       "        3.73666748e+02])\n",
       " message: 'Optimization terminated successfully.'\n",
       "    nfev: 332\n",
       "     nit: 41\n",
       "    njev: 40\n",
       "  status: 0\n",
       " success: True\n",
       "       x: array([-1.68259752e-05,  1.06392432e-02, -1.60510389e-02, -2.59609276e-03,\n",
       "        2.70909172e-05])"
      ]
     },
     "execution_count": 196,
     "metadata": {},
     "output_type": "execute_result"
    }
   ],
   "source": [
    "mod3=minimize(log_lik,np.array([-0.1,0.2,-0.1,-0.1,1]),constraints=cons,method='SLSQP')\n",
    "aic3=2*3+2*mod3.fun\n",
    "mod3"
   ]
  },
  {
   "cell_type": "code",
   "execution_count": 199,
   "metadata": {},
   "outputs": [
    {
     "data": {
      "text/plain": [
       "     fun: -23860.141712880926\n",
       "     jac: array([-1.96757812e+01, -1.42089844e-01,  2.90283203e-01, -3.32031250e-02,\n",
       "       -8.86230469e-02,  1.81501875e+04])\n",
       " message: 'Optimization terminated successfully.'\n",
       "    nfev: 357\n",
       "     nit: 38\n",
       "    njev: 37\n",
       "  status: 0\n",
       " success: True\n",
       "       x: array([-1.61242581e-05,  1.06434866e-02, -1.53793137e-02, -3.03735482e-03,\n",
       "        3.93954323e-02,  2.70590879e-05])"
      ]
     },
     "execution_count": 199,
     "metadata": {},
     "output_type": "execute_result"
    }
   ],
   "source": [
    "mod4=minimize(log_lik,np.array([-0.1,0.2,-0.1,-0.1,0.2,1]),constraints=cons,method='SLSQP')\n",
    "aic4=2*3+2*mod4.fun\n",
    "mod4"
   ]
  },
  {
   "cell_type": "code",
   "execution_count": 201,
   "metadata": {},
   "outputs": [
    {
     "data": {
      "text/plain": [
       "     fun: -23858.02409865041\n",
       "     jac: array([-1.33544922e+00,  1.24511719e-02,  2.63671875e-02,  5.85937500e-03,\n",
       "       -1.46484375e-03,  1.07910156e-01,  6.79401123e+02])\n",
       " message: 'Optimization terminated successfully.'\n",
       "    nfev: 537\n",
       "     nit: 53\n",
       "    njev: 52\n",
       "  status: 0\n",
       " success: True\n",
       "       x: array([-1.65666376e-05,  1.20715102e-02, -1.55126525e-02, -3.55422053e-03,\n",
       "        3.98064304e-02, -3.53919647e-02,  2.70254757e-05])"
      ]
     },
     "execution_count": 201,
     "metadata": {},
     "output_type": "execute_result"
    }
   ],
   "source": [
    "mod5=minimize(log_lik,np.array([-0.1,0.2,-0.1,-0.1,0.2,0.2,1]),constraints=cons,method='SLSQP')\n",
    "aic5=2*3+2*mod5.fun\n",
    "mod5"
   ]
  },
  {
   "cell_type": "code",
   "execution_count": 202,
   "metadata": {},
   "outputs": [
    {
     "data": {
      "text/plain": [
       "-47735.015355068965"
      ]
     },
     "execution_count": 202,
     "metadata": {},
     "output_type": "execute_result"
    },
    {
     "data": {
      "text/plain": [
       "-47726.204180285546"
      ]
     },
     "execution_count": 202,
     "metadata": {},
     "output_type": "execute_result"
    },
    {
     "data": {
      "text/plain": [
       "-47716.945770752565"
      ]
     },
     "execution_count": 202,
     "metadata": {},
     "output_type": "execute_result"
    },
    {
     "data": {
      "text/plain": [
       "-47714.28342576185"
      ]
     },
     "execution_count": 202,
     "metadata": {},
     "output_type": "execute_result"
    },
    {
     "data": {
      "text/plain": [
       "-47710.04819730082"
      ]
     },
     "execution_count": 202,
     "metadata": {},
     "output_type": "execute_result"
    }
   ],
   "source": [
    "aic1\n",
    "aic2\n",
    "aic3\n",
    "aic4\n",
    "aic5"
   ]
  },
  {
   "cell_type": "code",
   "execution_count": 41,
   "metadata": {},
   "outputs": [
    {
     "data": {
      "text/plain": [
       "array([3])"
      ]
     },
     "execution_count": 41,
     "metadata": {},
     "output_type": "execute_result"
    }
   ],
   "source": [
    "x=np.array([1,2,3,4])\n",
    "x[2:-1]"
   ]
  },
  {
   "cell_type": "code",
   "execution_count": 153,
   "metadata": {},
   "outputs": [],
   "source": [
    "def kalman_arima(par,p,d,q,data):\n",
    "    \n",
    "    if d>0:\n",
    "        mu=0\n",
    "        phi=np.array(par[:p])\n",
    "        theta=np.array(par[p:p+q])\n",
    "\n",
    "    else:\n",
    "        mu=np.array(par[0])\n",
    "        phi=np.array(par[1:p+1])\n",
    "        theta=np.array(par[p+1:-1])\n",
    "        \n",
    "    \n",
    "    \n",
    "    for i in range(d):\n",
    "        data=np.diff(data)\n",
    "        \n",
    "    r=np.maximum(p,q+1)\n",
    "    \n",
    "    zi=np.zeros(r).reshape((r,1))\n",
    "    \n",
    "    H=np.hstack((1,theta)).reshape((q+1,1))\n",
    "    \n",
    "    P11=sig2/(1-np.sum(phi**2))\n",
    "    P12=np.sum(phi)*sig2/(1-np.sum(phi**2))\n",
    "    P21=np.sum(phi)*sig2/(1-np.sum(phi**2))\n",
    "    P22=sig2/(1-np.sum(phi**2))\n",
    "    \n",
    "    P=np.array((P11,P12,P21,P22)).reshape((2,2))\n",
    "    \n",
    "    Q=np.hstack((sig2,np.zeros(r**2-1))).reshape((r,r))\n",
    "    \n",
    "    if r==p:\n",
    "        \n",
    "        F=np.vstack((phi,np.hstack((np.identity(r-1),np.zeros(r-1).reshape(r-1,1)))))\n",
    "    \n",
    "    else:\n",
    "        F=np.hstack((phi,np.zeros(r-p)))\n",
    "        F=np.vstack((F,np.hstack((np.identity(r-1),np.zeros(r-1).reshape(r-1,1)))))\n",
    "    \n",
    "    \n",
    "    \n",
    "    for i in range(len(data)):\n",
    "        \n",
    "        y=mu+H.T@zi\n",
    "        e=data[i]-y\n",
    "        \n",
    "        dist_mu=mu+H.T@zi\n",
    "        dist_sig=H.T@P@H\n",
    "\n",
    "        log_lik=0\n",
    "        log_lik=log_lik-np.log(dist_sig**0.5)-0.5*(1/(dist_sig))*(data[i]-dist_mu)\n",
    "        \n",
    "        zi=F@zi+F@P@H@np.linalg.inv(H.T@P@H)*e\n",
    "        P=F@(P-P@H@np.linalg.inv(H.T@P@H)@H.T@P)@F.T+Q\n",
    "    \n",
    "    return -log_lik"
   ]
  },
  {
   "cell_type": "code",
   "execution_count": 154,
   "metadata": {},
   "outputs": [],
   "source": [
    "p=1\n",
    "q=1\n",
    "def sig_cons(par):\n",
    "    return par[-1]\n",
    "def beta_cons(par):\n",
    "    return 1-np.sum(par[:p])\n",
    "def theta_cons(par):\n",
    "    return 1-np.sum(par[p:p+q])\n",
    "# def beta_cons(par):\n",
    "#     return 1-np.sum(par[:p])\n",
    "# def theta_cons(par):\n",
    "#     return 1-np.sum(par[p:-1])\n",
    "# def beta2_cons(par):\n",
    "#     return 1-np.sum(par[:-1]**2)\n",
    "\n",
    "cons = ({'type': 'ineq', 'fun': sig_cons})"
   ]
  },
  {
   "cell_type": "code",
   "execution_count": 162,
   "metadata": {},
   "outputs": [
    {
     "data": {
      "text/plain": [
       "     fun: 0.09697149109749748\n",
       "     jac: array([0.44586751, 3.38153334, 0.        , 0.        ])\n",
       " message: 'Optimization terminated successfully.'\n",
       "    nfev: 270\n",
       "     nit: 31\n",
       "    njev: 31\n",
       "  status: 0\n",
       " success: True\n",
       "       x: array([-2.85042846e+03,  1.83629258e+00, -2.00000000e-01,  1.00000000e-01])"
      ]
     },
     "execution_count": 162,
     "metadata": {},
     "output_type": "execute_result"
    }
   ],
   "source": [
    "minimize(kalman_arima,np.array([-0.2,-0.1,-0.2,0.1]),args=(1,1,1,ts1[:100]),constraints=cons, method=\"SLSQP\")"
   ]
  },
  {
   "cell_type": "code",
   "execution_count": 149,
   "metadata": {},
   "outputs": [],
   "source": [
    "from statsmodels.tsa import arima_process"
   ]
  },
  {
   "cell_type": "code",
   "execution_count": 72,
   "metadata": {},
   "outputs": [],
   "source": [
    "ts=arima_process.arma_generate_sample(ar=np.r_[1,0.5],ma=np.r_[1,0.5],nsample=100)"
   ]
  },
  {
   "cell_type": "code",
   "execution_count": 139,
   "metadata": {},
   "outputs": [],
   "source": [
    "par=[0.5,0.5,1]\n",
    "p=1\n",
    "q=1\n",
    "d=1\n",
    "mu=0\n",
    "phi=np.array(par[:p])\n",
    "theta=np.array(par[p:p+q])\n",
    "H=np.hstack((1,theta)).reshape((q+1,1))\n",
    "data=ts\n",
    "\n",
    "r=np.maximum(p,q+1)\n",
    "\n",
    "zi=np.zeros(r).reshape((r,1))\n",
    "\n",
    "H=np.hstack((1,theta)).reshape((q+1,1))\n",
    "\n",
    "P11=sig2/(1-np.sum(phi**2))\n",
    "P12=np.sum(phi)*sig2/(1-np.sum(phi**2))\n",
    "P21=np.sum(phi)*sig2/(1-np.sum(phi**2))\n",
    "P22=sig2/(1-np.sum(phi**2))\n",
    "\n",
    "P=np.array((P11,P12,P21,P22)).reshape((2,2))\n",
    "\n",
    "Q=np.hstack((sig2,np.zeros(r**2-1))).reshape((r,r))\n",
    "\n",
    "if r==p:\n",
    "\n",
    "    F=np.vstack((phi,np.hstack((np.identity(r-1),np.zeros(r-1).reshape(r-1,1)))))\n",
    "\n",
    "else:\n",
    "    F=np.hstack((phi,np.zeros(r-p)))\n",
    "    F=np.vstack((F,np.hstack((np.identity(r-1),np.zeros(r-1).reshape(r-1,1)))))\n",
    "\n",
    "\n",
    "\n",
    "for i in range(len(data)):\n",
    "\n",
    "    y=mu+H.T@zi\n",
    "    e=data[i]-y\n",
    "\n",
    "    dist_mu=mu+H.T@zi\n",
    "    dist_sig=H.T@P@H\n",
    "\n",
    "    log_lik=0\n",
    "    log_lik=log_lik-np.log(dist_sig**0.5)-0.5*(1/(dist_sig))*(data[i]-dist_mu)\n",
    "\n",
    "    zi=F@zi+F@P@H@np.linalg.inv(H.T@P@H)*e\n",
    "    P=F@(P-P@H@np.linalg.inv(H.T@P@H)@H.T@P)@F.T+Q"
   ]
  },
  {
   "cell_type": "code",
   "execution_count": 140,
   "metadata": {},
   "outputs": [
    {
     "data": {
      "text/plain": [
       "array([[-0.27233267]])"
      ]
     },
     "execution_count": 140,
     "metadata": {},
     "output_type": "execute_result"
    }
   ],
   "source": [
    "log_lik"
   ]
  },
  {
   "cell_type": "code",
   "execution_count": 131,
   "metadata": {},
   "outputs": [],
   "source": [
    "x=[5,2,3]\n",
    "phi=x[1:1+1]\n",
    "H=np.hstack((1,phi)).reshape((2,1))"
   ]
  },
  {
   "cell_type": "code",
   "execution_count": 970,
   "metadata": {},
   "outputs": [
    {
     "data": {
      "text/plain": [
       "array([0.9])"
      ]
     },
     "execution_count": 970,
     "metadata": {},
     "output_type": "execute_result"
    }
   ],
   "source": [
    "x=[1,2,3]\n",
    "a=[0.3]\n",
    "np.array(x[2:3])*a"
   ]
  },
  {
   "cell_type": "code",
   "execution_count": 968,
   "metadata": {},
   "outputs": [
    {
     "data": {
      "text/plain": [
       "[3]"
      ]
     },
     "execution_count": 968,
     "metadata": {},
     "output_type": "execute_result"
    }
   ],
   "source": [
    "x[2:3]"
   ]
  },
  {
   "cell_type": "code",
   "execution_count": null,
   "metadata": {},
   "outputs": [],
   "source": []
  }
 ],
 "metadata": {
  "kernelspec": {
   "display_name": "Python 3",
   "language": "python",
   "name": "python3"
  },
  "language_info": {
   "codemirror_mode": {
    "name": "ipython",
    "version": 3
   },
   "file_extension": ".py",
   "mimetype": "text/x-python",
   "name": "python",
   "nbconvert_exporter": "python",
   "pygments_lexer": "ipython3",
   "version": "3.7.3"
  }
 },
 "nbformat": 4,
 "nbformat_minor": 2
}
