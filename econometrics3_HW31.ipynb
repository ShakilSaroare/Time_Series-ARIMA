{
 "cells": [
  {
   "cell_type": "code",
   "execution_count": 1,
   "metadata": {},
   "outputs": [],
   "source": [
    "import numpy as np\n",
    "import pandas as pd\n",
    "import matplotlib.pyplot as plt\n",
    "from IPython.core.interactiveshell import InteractiveShell\n",
    "InteractiveShell.ast_node_interactivity = \"all\"\n",
    "from scipy.optimize import minimize\n",
    "import warnings\n",
    "warnings.simplefilter(\"ignore\")\n",
    "from scipy import stats"
   ]
  },
  {
   "cell_type": "code",
   "execution_count": 2,
   "metadata": {},
   "outputs": [],
   "source": [
    "dat=pd.read_csv(\"Foreign_Exchange_Rates.csv\")"
   ]
  },
  {
   "cell_type": "code",
   "execution_count": 3,
   "metadata": {},
   "outputs": [
    {
     "data": {
      "text/html": [
       "<div>\n",
       "<style scoped>\n",
       "    .dataframe tbody tr th:only-of-type {\n",
       "        vertical-align: middle;\n",
       "    }\n",
       "\n",
       "    .dataframe tbody tr th {\n",
       "        vertical-align: top;\n",
       "    }\n",
       "\n",
       "    .dataframe thead th {\n",
       "        text-align: right;\n",
       "    }\n",
       "</style>\n",
       "<table border=\"1\" class=\"dataframe\">\n",
       "  <thead>\n",
       "    <tr style=\"text-align: right;\">\n",
       "      <th></th>\n",
       "      <th>Unnamed: 0</th>\n",
       "      <th>Time Serie</th>\n",
       "      <th>AUSTRALIA - AUSTRALIAN DOLLAR/US$</th>\n",
       "      <th>EURO AREA - EURO/US$</th>\n",
       "      <th>NEW ZEALAND - NEW ZELAND DOLLAR/US$</th>\n",
       "      <th>UNITED KINGDOM - UNITED KINGDOM POUND/US$</th>\n",
       "      <th>BRAZIL - REAL/US$</th>\n",
       "      <th>CANADA - CANADIAN DOLLAR/US$</th>\n",
       "      <th>CHINA - YUAN/US$</th>\n",
       "      <th>HONG KONG - HONG KONG DOLLAR/US$</th>\n",
       "      <th>...</th>\n",
       "      <th>SINGAPORE - SINGAPORE DOLLAR/US$</th>\n",
       "      <th>DENMARK - DANISH KRONE/US$</th>\n",
       "      <th>JAPAN - YEN/US$</th>\n",
       "      <th>MALAYSIA - RINGGIT/US$</th>\n",
       "      <th>NORWAY - NORWEGIAN KRONE/US$</th>\n",
       "      <th>SWEDEN - KRONA/US$</th>\n",
       "      <th>SRI LANKA - SRI LANKAN RUPEE/US$</th>\n",
       "      <th>SWITZERLAND - FRANC/US$</th>\n",
       "      <th>TAIWAN - NEW TAIWAN DOLLAR/US$</th>\n",
       "      <th>THAILAND - BAHT/US$</th>\n",
       "    </tr>\n",
       "  </thead>\n",
       "  <tbody>\n",
       "    <tr>\n",
       "      <th>0</th>\n",
       "      <td>0</td>\n",
       "      <td>2000-01-03</td>\n",
       "      <td>1.5172</td>\n",
       "      <td>0.9847</td>\n",
       "      <td>1.9033</td>\n",
       "      <td>0.6146</td>\n",
       "      <td>1.805</td>\n",
       "      <td>1.4465</td>\n",
       "      <td>8.2798</td>\n",
       "      <td>7.7765</td>\n",
       "      <td>...</td>\n",
       "      <td>1.6563</td>\n",
       "      <td>7.329</td>\n",
       "      <td>101.7</td>\n",
       "      <td>3.8</td>\n",
       "      <td>7.964</td>\n",
       "      <td>8.443</td>\n",
       "      <td>72.3</td>\n",
       "      <td>1.5808</td>\n",
       "      <td>31.38</td>\n",
       "      <td>36.97</td>\n",
       "    </tr>\n",
       "    <tr>\n",
       "      <th>1</th>\n",
       "      <td>1</td>\n",
       "      <td>2000-01-04</td>\n",
       "      <td>1.5239</td>\n",
       "      <td>0.97</td>\n",
       "      <td>1.9238</td>\n",
       "      <td>0.6109</td>\n",
       "      <td>1.8405</td>\n",
       "      <td>1.4518</td>\n",
       "      <td>8.2799</td>\n",
       "      <td>7.7775</td>\n",
       "      <td>...</td>\n",
       "      <td>1.6535</td>\n",
       "      <td>7.218</td>\n",
       "      <td>103.09</td>\n",
       "      <td>3.8</td>\n",
       "      <td>7.934</td>\n",
       "      <td>8.36</td>\n",
       "      <td>72.65</td>\n",
       "      <td>1.5565</td>\n",
       "      <td>30.6</td>\n",
       "      <td>37.13</td>\n",
       "    </tr>\n",
       "    <tr>\n",
       "      <th>2</th>\n",
       "      <td>2</td>\n",
       "      <td>2000-01-05</td>\n",
       "      <td>1.5267</td>\n",
       "      <td>0.9676</td>\n",
       "      <td>1.9339</td>\n",
       "      <td>0.6092</td>\n",
       "      <td>1.856</td>\n",
       "      <td>1.4518</td>\n",
       "      <td>8.2798</td>\n",
       "      <td>7.778</td>\n",
       "      <td>...</td>\n",
       "      <td>1.656</td>\n",
       "      <td>7.208</td>\n",
       "      <td>103.77</td>\n",
       "      <td>3.8</td>\n",
       "      <td>7.935</td>\n",
       "      <td>8.353</td>\n",
       "      <td>72.95</td>\n",
       "      <td>1.5526</td>\n",
       "      <td>30.8</td>\n",
       "      <td>37.1</td>\n",
       "    </tr>\n",
       "    <tr>\n",
       "      <th>3</th>\n",
       "      <td>3</td>\n",
       "      <td>2000-01-06</td>\n",
       "      <td>1.5291</td>\n",
       "      <td>0.9686</td>\n",
       "      <td>1.9436</td>\n",
       "      <td>0.607</td>\n",
       "      <td>1.84</td>\n",
       "      <td>1.4571</td>\n",
       "      <td>8.2797</td>\n",
       "      <td>7.7785</td>\n",
       "      <td>...</td>\n",
       "      <td>1.6655</td>\n",
       "      <td>7.2125</td>\n",
       "      <td>105.19</td>\n",
       "      <td>3.8</td>\n",
       "      <td>7.94</td>\n",
       "      <td>8.3675</td>\n",
       "      <td>72.95</td>\n",
       "      <td>1.554</td>\n",
       "      <td>31.75</td>\n",
       "      <td>37.62</td>\n",
       "    </tr>\n",
       "    <tr>\n",
       "      <th>4</th>\n",
       "      <td>4</td>\n",
       "      <td>2000-01-07</td>\n",
       "      <td>1.5272</td>\n",
       "      <td>0.9714</td>\n",
       "      <td>1.938</td>\n",
       "      <td>0.6104</td>\n",
       "      <td>1.831</td>\n",
       "      <td>1.4505</td>\n",
       "      <td>8.2794</td>\n",
       "      <td>7.7783</td>\n",
       "      <td>...</td>\n",
       "      <td>1.6625</td>\n",
       "      <td>7.2285</td>\n",
       "      <td>105.17</td>\n",
       "      <td>3.8</td>\n",
       "      <td>7.966</td>\n",
       "      <td>8.415</td>\n",
       "      <td>73.15</td>\n",
       "      <td>1.5623</td>\n",
       "      <td>30.85</td>\n",
       "      <td>37.3</td>\n",
       "    </tr>\n",
       "  </tbody>\n",
       "</table>\n",
       "<p>5 rows × 24 columns</p>\n",
       "</div>"
      ],
      "text/plain": [
       "   Unnamed: 0  Time Serie AUSTRALIA - AUSTRALIAN DOLLAR/US$  \\\n",
       "0           0  2000-01-03                            1.5172   \n",
       "1           1  2000-01-04                            1.5239   \n",
       "2           2  2000-01-05                            1.5267   \n",
       "3           3  2000-01-06                            1.5291   \n",
       "4           4  2000-01-07                            1.5272   \n",
       "\n",
       "  EURO AREA - EURO/US$ NEW ZEALAND - NEW ZELAND DOLLAR/US$  \\\n",
       "0               0.9847                              1.9033   \n",
       "1                 0.97                              1.9238   \n",
       "2               0.9676                              1.9339   \n",
       "3               0.9686                              1.9436   \n",
       "4               0.9714                               1.938   \n",
       "\n",
       "  UNITED KINGDOM - UNITED KINGDOM POUND/US$ BRAZIL - REAL/US$  \\\n",
       "0                                    0.6146             1.805   \n",
       "1                                    0.6109            1.8405   \n",
       "2                                    0.6092             1.856   \n",
       "3                                     0.607              1.84   \n",
       "4                                    0.6104             1.831   \n",
       "\n",
       "  CANADA - CANADIAN DOLLAR/US$ CHINA - YUAN/US$  \\\n",
       "0                       1.4465           8.2798   \n",
       "1                       1.4518           8.2799   \n",
       "2                       1.4518           8.2798   \n",
       "3                       1.4571           8.2797   \n",
       "4                       1.4505           8.2794   \n",
       "\n",
       "  HONG KONG - HONG KONG DOLLAR/US$  ... SINGAPORE - SINGAPORE DOLLAR/US$  \\\n",
       "0                           7.7765  ...                           1.6563   \n",
       "1                           7.7775  ...                           1.6535   \n",
       "2                            7.778  ...                            1.656   \n",
       "3                           7.7785  ...                           1.6655   \n",
       "4                           7.7783  ...                           1.6625   \n",
       "\n",
       "  DENMARK - DANISH KRONE/US$ JAPAN - YEN/US$ MALAYSIA - RINGGIT/US$  \\\n",
       "0                      7.329           101.7                    3.8   \n",
       "1                      7.218          103.09                    3.8   \n",
       "2                      7.208          103.77                    3.8   \n",
       "3                     7.2125          105.19                    3.8   \n",
       "4                     7.2285          105.17                    3.8   \n",
       "\n",
       "  NORWAY - NORWEGIAN KRONE/US$ SWEDEN - KRONA/US$  \\\n",
       "0                        7.964              8.443   \n",
       "1                        7.934               8.36   \n",
       "2                        7.935              8.353   \n",
       "3                         7.94             8.3675   \n",
       "4                        7.966              8.415   \n",
       "\n",
       "  SRI LANKA - SRI LANKAN RUPEE/US$ SWITZERLAND - FRANC/US$  \\\n",
       "0                             72.3                  1.5808   \n",
       "1                            72.65                  1.5565   \n",
       "2                            72.95                  1.5526   \n",
       "3                            72.95                   1.554   \n",
       "4                            73.15                  1.5623   \n",
       "\n",
       "  TAIWAN - NEW TAIWAN DOLLAR/US$ THAILAND - BAHT/US$  \n",
       "0                          31.38               36.97  \n",
       "1                           30.6               37.13  \n",
       "2                           30.8                37.1  \n",
       "3                          31.75               37.62  \n",
       "4                          30.85                37.3  \n",
       "\n",
       "[5 rows x 24 columns]"
      ]
     },
     "execution_count": 3,
     "metadata": {},
     "output_type": "execute_result"
    }
   ],
   "source": [
    "dat.head(5)"
   ]
  },
  {
   "cell_type": "code",
   "execution_count": 4,
   "metadata": {},
   "outputs": [],
   "source": [
    "ts1=pd.to_numeric(dat[\"AUSTRALIA - AUSTRALIAN DOLLAR/US$\"],errors='coerce').dropna().reset_index()\n",
    "ts1=ts1[\"AUSTRALIA - AUSTRALIAN DOLLAR/US$\"]\n",
    "ts2=pd.to_numeric(dat[\"EURO AREA - EURO/US$\"],errors='coerce').dropna().reset_index()\n",
    "ts2=ts2[\"EURO AREA - EURO/US$\"]\n",
    "ts3=pd.to_numeric(dat[\"JAPAN - YEN/US$\"],errors='coerce').dropna().reset_index()\n",
    "ts3=ts3[\"JAPAN - YEN/US$\"]\n",
    "ts4=pd.to_numeric(dat[\"UNITED KINGDOM - UNITED KINGDOM POUND/US$\"],errors='coerce').dropna().reset_index()\n",
    "ts4=ts4[\"UNITED KINGDOM - UNITED KINGDOM POUND/US$\"]"
   ]
  },
  {
   "cell_type": "code",
   "execution_count": 14,
   "metadata": {},
   "outputs": [
    {
     "data": {
      "text/plain": [
       "1.3320154413229692"
      ]
     },
     "execution_count": 14,
     "metadata": {},
     "output_type": "execute_result"
    }
   ],
   "source": [
    "np.mean(ts1)"
   ]
  },
  {
   "cell_type": "code",
   "execution_count": 5,
   "metadata": {},
   "outputs": [
    {
     "data": {
      "image/png": "[encoded data removed]",
      "text/plain": [
       "<Figure size 720x720 with 4 Axes>"
      ]
     },
     "metadata": {
      "needs_background": "light"
     },
     "output_type": "display_data"
    }
   ],
   "source": [
    "fig, axs = plt.subplots(2,2)\n",
    "fig.set_figheight(10);\n",
    "fig.set_figwidth(10);\n",
    "axs[0,0].plot(ts1,color=\"red\")\n",
    "axs[0,1].plot(ts2,color=\"blue\")\n",
    "axs[1,0].plot(ts3,color=\"green\")\n",
    "axs[1,1].plot(ts4,color=\"orange\")\n",
    "axs[0,0].set_title(\"AUSTRALIAN DOLLAR/US$\");\n",
    "axs[0,1].set_title(\"EURO/US$\");\n",
    "axs[1,0].set_title(\"YEN/US$\");\n",
    "axs[1,1].set_title(\"POUND/US$\");\n",
    "fig.suptitle(\"Time Series plot\",size=25);"
   ]
  },
  {
   "cell_type": "markdown",
   "metadata": {},
   "source": [
    "# Auto Regressive Model of Order p: AR(p)  "
   ]
  },
  {
   "cell_type": "markdown",
   "metadata": {},
   "source": [
    "## Test for Stationarity"
   ]
  },
  {
   "cell_type": "markdown",
   "metadata": {},
   "source": [
    "I am using ADF test for stationarity check here. The lag order (p) in the ADF test is given by the documentation of \"tseries\" package of R: $$p=trunc((length(x)-1)^{(1/3)})$$ where \"trunc\" is a function to make the float object into integer towards 0 and \"x\" is the time series."
   ]
  },
  {
   "cell_type": "code",
   "execution_count": 102,
   "metadata": {},
   "outputs": [],
   "source": [
    "def adf_test(data):\n",
    "    k=int((len(data)-1)**(1/3))\n",
    "    y=np.zeros(len(data)-k)\n",
    "    x=np.zeros([len(data)-k,k])\n",
    "    for i in range(k,len(data)):\n",
    "        y[i-k]=data[i]-data[i-1]\n",
    "        x[i-k,0]=data[i-1]\n",
    "        for j in range(1,k):\n",
    "            x[i-k,j]=data[i-j]-data[i-j-1]\n",
    "    trend=np.reshape(np.arange(1,len(data)-k+1,1),(len(data)-k,1)) #Adding trend into the model\n",
    "    x=np.hstack((trend,x))                                          # Addign trend as an explanatory variable\n",
    "    x=np.hstack((np.ones([x.shape[0],1]),x))\n",
    "    beta=np.matmul(np.linalg.inv(np.matmul(np.matrix.transpose(x),x)),np.matmul(np.matrix.transpose(x),y))\n",
    "    res=y-np.matmul(x,beta)\n",
    "    sd=np.matmul(np.matrix.transpose(res),res)/len(y)\n",
    "    se=sd*np.linalg.inv(np.matmul(np.matrix.transpose(x),x))\n",
    "    t=beta[2]/(se[2,2]**0.5)\n",
    "    return t"
   ]
  },
  {
   "cell_type": "markdown",
   "metadata": {},
   "source": [
    "### Augmented Dickey-Fuller (ADF) Test results"
   ]
  },
  {
   "cell_type": "code",
   "execution_count": 103,
   "metadata": {},
   "outputs": [
    {
     "name": "stdout",
     "output_type": "stream",
     "text": [
      "ADF test statistic for AUD/USD: -1.2677730700496275\n",
      "ADF test statistic for EURO/USD: -1.4554354120522321\n",
      "ADF test statistic for Yen/USD: -1.7261872864158123\n",
      "ADF test statistic for Pound/USD: -1.8994865162260917\n"
     ]
    }
   ],
   "source": [
    "print(\"ADF test statistic for AUD/USD:\",adf_test(ts1))\n",
    "print(\"ADF test statistic for EURO/USD:\",adf_test(ts2))\n",
    "print(\"ADF test statistic for Yen/USD:\",adf_test(ts3))\n",
    "print(\"ADF test statistic for Pound/USD:\",adf_test(ts4))"
   ]
  },
  {
   "cell_type": "markdown",
   "metadata": {},
   "source": [
    "For model with trend and constant mean, the critical value for the ADF test statistic is -3.41 at 5% level of significance. Our obtained test statistic for all the four time series are larger than the critical value. Therefore, we cannot reject the null hypothesis of unit root. "
   ]
  },
  {
   "cell_type": "markdown",
   "metadata": {},
   "source": [
    "### ADF for First Order Difference"
   ]
  },
  {
   "cell_type": "code",
   "execution_count": 104,
   "metadata": {},
   "outputs": [
    {
     "name": "stdout",
     "output_type": "stream",
     "text": [
      "ADF test statistic for AUD/USD: -16.87003436808306\n",
      "ADF test statistic for EURO/USD: -17.260498870939028\n",
      "ADF test statistic for Yen/USD: -17.48666920828962\n",
      "ADF test statistic for Pound/USD: -17.215546126251862\n"
     ]
    }
   ],
   "source": [
    "print(\"ADF test statistic for AUD/USD:\",adf_test(np.diff(ts1)))\n",
    "print(\"ADF test statistic for EURO/USD:\",adf_test(np.diff(ts2)))\n",
    "print(\"ADF test statistic for Yen/USD:\",adf_test(np.diff(ts3)))\n",
    "print(\"ADF test statistic for Pound/USD:\",adf_test(np.diff(ts4)))"
   ]
  },
  {
   "cell_type": "markdown",
   "metadata": {},
   "source": [
    "The test statistic value for the first order difference is significantly lower than the critical value. Therefore, we can conclude that the series is stationary at the first difference. "
   ]
  },
  {
   "cell_type": "markdown",
   "metadata": {},
   "source": [
    "## Model Selection"
   ]
  },
  {
   "cell_type": "code",
   "execution_count": 183,
   "metadata": {},
   "outputs": [],
   "source": [
    "def log_lik(par, data, k):\n",
    "    beta=par[:k+1]\n",
    "    sig=par[k+1]\n",
    "    phi=0\n",
    "    for i in range(1,len(beta)):\n",
    "        phi=phi+beta[i]\n",
    "    init_mu=beta[0]/(1-phi)\n",
    "    phi2=0\n",
    "    for i in range(1,len(beta)):\n",
    "        phi2=phi2+beta[i]**2\n",
    "    init_sig=sig/(1-phi2)\n",
    "    init_loglik=-0.5*np.log(init_sig)-0.5*(1/init_sig)*(data[0]-init_mu)**2\n",
    "    y=np.zeros(len(data)-k)\n",
    "    x=np.zeros([len(data)-k,k])\n",
    "    for i in range(k,len(data)):\n",
    "        y[i-k]=data[i]\n",
    "        x[i-k,0]=data[i-1]\n",
    "        for j in range(1,k):\n",
    "            x[i-k,j]=data[i-j]\n",
    "    x=np.hstack((np.ones([x.shape[0],1]),x))\n",
    "    exact_loglik=init_loglik\n",
    "    for i in range(1,len(y)):\n",
    "        exact_loglik=exact_loglik-0.5*np.log(sig)-0.5*(1/sig)*(y[i]-np.matmul(x[i,],beta))**2\n",
    "    return -exact_loglik"
   ]
  },
  {
   "cell_type": "code",
   "execution_count": 184,
   "metadata": {},
   "outputs": [],
   "source": [
    "def sig_cons(par):\n",
    "    return par[len(par)-1]\n",
    "def beta_cons(par):\n",
    "    return 1-np.sum(par[:-1])\n",
    "def beta2_cons(par):\n",
    "    return 1-np.sum(par[:-1]**2)"
   ]
  },
  {
   "cell_type": "code",
   "execution_count": 185,
   "metadata": {},
   "outputs": [],
   "source": [
    "cons = ({'type': 'ineq', 'fun': sig_cons},\n",
    "        {'type': 'ineq', 'fun': beta_cons},\n",
    "        {'type': 'ineq', 'fun': beta2_cons})"
   ]
  },
  {
   "cell_type": "code",
   "execution_count": 186,
   "metadata": {},
   "outputs": [
    {
     "data": {
      "text/plain": [
       "     fun: -20118.213500517442\n",
       "     jac: array([ 1.13208008e+00, -6.83593750e-03,  7.25422363e+01])\n",
       " message: 'Optimization terminated successfully.'\n",
       "    nfev: 257\n",
       "     nit: 41\n",
       "    njev: 41\n",
       "  status: 0\n",
       " success: True\n",
       "       x: array([-2.04756081e-05, -5.17906814e-02,  1.20956937e-04])"
      ]
     },
     "execution_count": 186,
     "metadata": {},
     "output_type": "execute_result"
    }
   ],
   "source": [
    "mod1=minimize(log_lik,np.array([-0.1,-0.1,0.5]),args=(np.diff(ts1),1),constraints=cons,method='SLSQP')\n",
    "aic1=2*3+2*mod1.fun\n",
    "mod1"
   ]
  },
  {
   "cell_type": "code",
   "execution_count": 187,
   "metadata": {},
   "outputs": [
    {
     "data": {
      "text/plain": [
       "     fun: -20113.731168966664\n",
       "     jac: array([-0.26367188, -0.01025391, -0.01025391, -3.24023438])\n",
       " message: 'Optimization terminated successfully.'\n",
       "    nfev: 208\n",
       "     nit: 30\n",
       "    njev: 30\n",
       "  status: 0\n",
       " success: True\n",
       "       x: array([-2.10194798e-05, -2.59031290e-02, -2.59031290e-02,  1.20979309e-04])"
      ]
     },
     "execution_count": 187,
     "metadata": {},
     "output_type": "execute_result"
    }
   ],
   "source": [
    "mod2=minimize(log_lik,np.array([0.1,0.1,0.1,0.5]),args=(np.diff(ts1),2),constraints=cons,method='SLSQP')\n",
    "aic2=2*3+2*mod2.fun\n",
    "mod2"
   ]
  },
  {
   "cell_type": "code",
   "execution_count": 190,
   "metadata": {},
   "outputs": [
    {
     "data": {
      "text/plain": [
       "     fun: -20109.576921803702\n",
       "     jac: array([-5.91699219e+00, -6.34765625e-03, -6.34765625e-03, -5.20019531e-02,\n",
       "        5.02682129e+02])\n",
       " message: 'Optimization terminated successfully.'\n",
       "    nfev: 376\n",
       "     nit: 46\n",
       "    njev: 46\n",
       "  status: 0\n",
       " success: True\n",
       "       x: array([-2.05605752e-05, -2.56241334e-02, -2.55714218e-02,  1.16819162e-02,\n",
       "        1.20989225e-04])"
      ]
     },
     "execution_count": 190,
     "metadata": {},
     "output_type": "execute_result"
    }
   ],
   "source": [
    "mod3=minimize(log_lik,np.array([-0.1,-0.1,0.1,0.1,0.5]),args=(np.diff(ts1),3),constraints=cons,method='SLSQP')\n",
    "aic3=2*3+2*mod3.fun\n",
    "mod3"
   ]
  },
  {
   "cell_type": "code",
   "execution_count": 192,
   "metadata": {},
   "outputs": [
    {
     "data": {
      "text/plain": [
       "     fun: -20110.292040937893\n",
       "     jac: array([-1.75512695e+00,  6.32324219e-02,  6.34765625e-02, -2.63671875e-02,\n",
       "        3.34472656e-02,  8.72734619e+02])\n",
       " message: 'Optimization terminated successfully.'\n",
       "    nfev: 454\n",
       "     nit: 49\n",
       "    njev: 49\n",
       "  status: 0\n",
       " success: True\n",
       "       x: array([-2.07089080e-05, -2.53866306e-02, -2.52729417e-02,  9.36827961e-03,\n",
       "       -4.54510246e-02,  1.20763495e-04])"
      ]
     },
     "execution_count": 192,
     "metadata": {},
     "output_type": "execute_result"
    }
   ],
   "source": [
    "mod4=minimize(log_lik,np.array([-0.1,-0.1,-0.1,0.1,0.1,0.5]),args=(np.diff(ts1),4),constraints=cons,method='SLSQP')\n",
    "aic4=2*3+2*mod4.fun\n",
    "mod4"
   ]
  },
  {
   "cell_type": "code",
   "execution_count": 193,
   "metadata": {},
   "outputs": [
    {
     "data": {
      "text/plain": [
       "     fun: -20111.174969007323\n",
       "     jac: array([-2.84912109e-01,  1.04980469e-02,  1.07421875e-02, -1.14746094e-02,\n",
       "        6.10351562e-03, -4.63867188e-03,  1.72678223e+01])\n",
       " message: 'Optimization terminated successfully.'\n",
       "    nfev: 341\n",
       "     nit: 35\n",
       "    njev: 34\n",
       "  status: 0\n",
       " success: True\n",
       "       x: array([-1.91269539e-05, -2.44836224e-02, -2.41036516e-02,  8.93431698e-03,\n",
       "       -4.30963949e-02,  4.61717207e-02,  1.20522917e-04])"
      ]
     },
     "execution_count": 193,
     "metadata": {},
     "output_type": "execute_result"
    }
   ],
   "source": [
    "mod5=minimize(log_lik,np.array([-0.1,-0.1,0.1,0.1,0.1,0.1,0.5]),args=(np.diff(ts1),5),constraints=cons,method='SLSQP')\n",
    "aic5=2*3+2*mod5.fun\n",
    "mod5"
   ]
  },
  {
   "cell_type": "code",
   "execution_count": 272,
   "metadata": {},
   "outputs": [],
   "source": [
    "def predict(data,k,test):\n",
    "    y=np.zeros(len(data)-k)\n",
    "    x=np.zeros([len(data)-k,k])\n",
    "    for i in range(k,len(data)):\n",
    "        y[i-k]=data[i]\n",
    "        x[i-k,0]=data[i-1]\n",
    "        for j in range(1,k):\n",
    "            x[i-k,j]=data[i-j]\n",
    "    x=np.hstack((np.ones([x.shape[0],1]),x))\n",
    "    beta=np.matmul(np.linalg.inv(np.matmul(np.matrix.transpose(x),x)),np.matmul(np.matrix.transpose(x),y))\n",
    "    y=np.zeros(test)\n",
    "    x=np.zeros([test,k])\n",
    "    for i in range(test):\n",
    "        y[i]=data[test+i]\n",
    "        for j in range(k):\n",
    "            x[i,j]=data[test+i-1-j]\n",
    "    x=np.hstack((np.ones([x.shape[0],1]),x))\n",
    "    forecast=x@beta\n",
    "    mse=(y-forecast)@(y-forecast)/len(y)\n",
    "    return {\"test\":y,\"pred\":forecast,\"mse\":mse,\"par\":beta}"
   ]
  },
  {
   "cell_type": "code",
   "execution_count": 271,
   "metadata": {},
   "outputs": [
    {
     "ename": "TypeError",
     "evalue": "predict() missing 1 required positional argument: 'test'",
     "output_type": "error",
     "traceback": [
      "\u001b[1;31m---------------------------------------------------------------------------\u001b[0m",
      "\u001b[1;31mTypeError\u001b[0m                                 Traceback (most recent call last)",
      "\u001b[1;32m<ipython-input-271-169dc389f5b3>\u001b[0m in \u001b[0;36m<module>\u001b[1;34m\u001b[0m\n\u001b[1;32m----> 1\u001b[1;33m \u001b[0mrs1\u001b[0m\u001b[1;33m=\u001b[0m\u001b[0mpredict\u001b[0m\u001b[1;33m(\u001b[0m\u001b[0mnp\u001b[0m\u001b[1;33m.\u001b[0m\u001b[0mdiff\u001b[0m\u001b[1;33m(\u001b[0m\u001b[0mts1\u001b[0m\u001b[1;33m)\u001b[0m\u001b[1;33m,\u001b[0m\u001b[1;36m1\u001b[0m\u001b[1;33m,\u001b[0m\u001b[1;36m100\u001b[0m\u001b[1;33m)\u001b[0m\u001b[1;33m\u001b[0m\u001b[1;33m\u001b[0m\u001b[0m\n\u001b[0m\u001b[0;32m      2\u001b[0m \u001b[0mrs1\u001b[0m\u001b[1;33m[\u001b[0m\u001b[1;34m\"par\"\u001b[0m\u001b[1;33m]\u001b[0m\u001b[1;33m\u001b[0m\u001b[1;33m\u001b[0m\u001b[0m\n",
      "\u001b[1;31mTypeError\u001b[0m: predict() missing 1 required positional argument: 'test'"
     ]
    }
   ],
   "source": [
    "rs1=predict(np.diff(ts1),1,100)\n",
    "rs1[\"par\"]"
   ]
  },
  {
   "cell_type": "code",
   "execution_count": 256,
   "metadata": {},
   "outputs": [
    {
     "data": {
      "text/plain": [
       "array([[ 1.    ,  0.0104],\n",
       "       [ 1.    ,  0.004 ],\n",
       "       [ 1.    , -0.0049],\n",
       "       [ 1.    , -0.0158],\n",
       "       [ 1.    ,  0.0182]])"
      ]
     },
     "execution_count": 256,
     "metadata": {},
     "output_type": "execute_result"
    },
    {
     "data": {
      "text/plain": [
       "array([-0.0022,  0.0104,  0.004 , -0.0049, -0.0158,  0.0182, -0.004 ])"
      ]
     },
     "execution_count": 256,
     "metadata": {},
     "output_type": "execute_result"
    },
    {
     "data": {
      "text/plain": [
       "array([ 0.004 , -0.0049, -0.0158,  0.0182, -0.004 ])"
      ]
     },
     "execution_count": 256,
     "metadata": {},
     "output_type": "execute_result"
    }
   ],
   "source": [
    "rs2=predict([0.1,0.1,0.1,0.5],np.diff(ts1),2,100)\n",
    "rs2"
   ]
  },
  {
   "cell_type": "code",
   "execution_count": null,
   "metadata": {},
   "outputs": [],
   "source": [
    "rs3=predict((-0.1,-0.1,0.1,0.1,0.5),np.diff(ts1),3,100)\n",
    "rs3"
   ]
  },
  {
   "cell_type": "code",
   "execution_count": null,
   "metadata": {},
   "outputs": [],
   "source": [
    "rs4=predict((-0.1,-0.1,-0.1,0.1,0.1,0.5),np.diff(ts1),4,100)"
   ]
  },
  {
   "cell_type": "code",
   "execution_count": 249,
   "metadata": {},
   "outputs": [
    {
     "data": {
      "text/plain": [
       "[<matplotlib.lines.Line2D at 0x1e218242be0>]"
      ]
     },
     "execution_count": 249,
     "metadata": {},
     "output_type": "execute_result"
    },
    {
     "data": {
      "text/plain": [
       "[<matplotlib.lines.Line2D at 0x1e21821aeb8>]"
      ]
     },
     "execution_count": 249,
     "metadata": {},
     "output_type": "execute_result"
    },
    {
     "data": {
      "image/png": "[encoded data removed]",
      "text/plain": [
       "<Figure size 432x288 with 1 Axes>"
      ]
     },
     "metadata": {
      "needs_background": "light"
     },
     "output_type": "display_data"
    }
   ],
   "source": [
    "plt.plot(rs[\"test\"])\n",
    "plt.plot(rs[\"pred\"])\n",
    "plt.show()"
   ]
  },
  {
   "cell_type": "code",
   "execution_count": null,
   "metadata": {},
   "outputs": [],
   "source": []
  },
  {
   "cell_type": "code",
   "execution_count": 153,
   "metadata": {},
   "outputs": [
    {
     "data": {
      "text/plain": [
       "array([-2.15578448e-05, -1.03947530e+00, -1.17144008e-02])"
      ]
     },
     "execution_count": 153,
     "metadata": {},
     "output_type": "execute_result"
    }
   ],
   "source": [
    "k=2\n",
    "data=np.diff(ts1)\n",
    "y=np.zeros(len(data)-k)\n",
    "x=np.zeros([len(data)-k,k])\n",
    "for i in range(k,len(data)):\n",
    "    y[i-k]=data[i]-data[i-1]\n",
    "    x[i-k,0]=data[i-1]\n",
    "    for j in range(1,k):\n",
    "        x[i-k,j]=data[i-j]-data[i-j-1]\n",
    "x=np.hstack((np.ones([x.shape[0],1]),x))\n",
    "beta=np.matmul(np.linalg.inv(np.matmul(np.matrix.transpose(x),x)),np.matmul(np.matrix.transpose(x),y))\n",
    "beta"
   ]
  },
  {
   "cell_type": "code",
   "execution_count": 195,
   "metadata": {},
   "outputs": [
    {
     "data": {
      "text/plain": [
       "40238.427001034885"
      ]
     },
     "execution_count": 195,
     "metadata": {},
     "output_type": "execute_result"
    },
    {
     "data": {
      "text/plain": [
       "40231.46233793333"
      ]
     },
     "execution_count": 195,
     "metadata": {},
     "output_type": "execute_result"
    },
    {
     "data": {
      "text/plain": [
       "40225.153843607404"
      ]
     },
     "execution_count": 195,
     "metadata": {},
     "output_type": "execute_result"
    },
    {
     "data": {
      "text/plain": [
       "40228.584081875786"
      ]
     },
     "execution_count": 195,
     "metadata": {},
     "output_type": "execute_result"
    },
    {
     "data": {
      "text/plain": [
       "40232.349938014646"
      ]
     },
     "execution_count": 195,
     "metadata": {},
     "output_type": "execute_result"
    }
   ],
   "source": [
    "aic1=2*1-2*mod1.fun\n",
    "aic2=2*2-2*mod2.fun\n",
    "aic3=2*3-2*mod3.fun\n",
    "aic4=2*4-2*mod4.fun\n",
    "aic5=2*5-2*mod5.fun\n",
    "aic1\n",
    "aic2\n",
    "aic3\n",
    "aic4\n",
    "aic5"
   ]
  },
  {
   "cell_type": "markdown",
   "metadata": {},
   "source": [
    "#### Serial correlation check"
   ]
  },
  {
   "cell_type": "code",
   "execution_count": 19,
   "metadata": {},
   "outputs": [
    {
     "data": {
      "text/plain": [
       "array([ 0.00686374,  0.00294354,  0.00232096, ..., -0.00135613,\n",
       "       -0.00379471, -0.00825486])"
      ]
     },
     "execution_count": 19,
     "metadata": {},
     "output_type": "execute_result"
    }
   ],
   "source": [
    "def res(data,beta):\n",
    "    k=len(beta)-1\n",
    "    y=np.zeros(len(data)-k)\n",
    "    x=np.zeros([len(data)-k,k])\n",
    "    for i in range(len(data)-k):\n",
    "        y[i]=data[i]\n",
    "        for j in range(k):\n",
    "            x[i,j]=data[i+j+1]\n",
    "    x=np.hstack((np.ones([x.shape[0],1]),x))\n",
    "    ehat=y-np.matmul(x,beta)\n",
    "    return ehat\n",
    "res(np.diff(ts1),mod1.x)"
   ]
  },
  {
   "cell_type": "code",
   "execution_count": 33,
   "metadata": {},
   "outputs": [
    {
     "data": {
      "text/plain": [
       "array([ 0.00085173,  0.00909894, -0.04362031])"
      ]
     },
     "execution_count": 33,
     "metadata": {},
     "output_type": "execute_result"
    },
    {
     "data": {
      "text/plain": [
       "array([[ 1.99235830e-04, -8.58478221e-08, -1.80699192e-06],\n",
       "       [-8.58478221e-08,  1.99217600e-04, -9.39533699e-08],\n",
       "       [-1.80699192e-06, -9.39533699e-08,  1.99213348e-04]])"
      ]
     },
     "execution_count": 33,
     "metadata": {},
     "output_type": "execute_result"
    }
   ],
   "source": [
    "k=3\n",
    "w=res(np.diff(ts1),mod1.x)\n",
    "y=np.zeros(len(w)-k)\n",
    "x=np.zeros([len(w)-k,k])\n",
    "for i in range(len(w)-k):\n",
    "    y[i]=w[i]\n",
    "    for j in range(k):\n",
    "        x[i,j]=w[i+j+1]\n",
    "theta=np.matmul(np.linalg.inv(np.matmul(np.matrix.transpose(x),x)),np.matmul(np.matrix.transpose(x),y))\n",
    "theta\n",
    "w_res=y-np.matmul(x,theta)\n",
    "res_sd=np.matmul(np.ones(len(w_res)),w_res*w_res)/(len(w_res)-k)\n",
    "theta_sd=res_sd*np.linalg.inv(np.matmul(np.matrix.transpose(x),x))\n",
    "theta_sd"
   ]
  },
  {
   "cell_type": "code",
   "execution_count": 34,
   "metadata": {},
   "outputs": [
    {
     "data": {
      "text/plain": [
       "9.965989471173836"
      ]
     },
     "execution_count": 34,
     "metadata": {},
     "output_type": "execute_result"
    }
   ],
   "source": [
    "R=np.identity(k)\n",
    "r=np.zeros(k)\n",
    "w1=np.matrix.transpose((np.matmul(R,theta)-r))\n",
    "w2=np.linalg.inv(np.matmul(np.matmul(R,theta_sd),np.matrix.transpose(R)))\n",
    "w3=np.matmul(R,theta)-r\n",
    "wald=np.matmul(np.matmul(w1,w2),w3)\n",
    "wald"
   ]
  },
  {
   "cell_type": "code",
   "execution_count": 35,
   "metadata": {},
   "outputs": [
    {
     "data": {
      "text/plain": [
       "0.018857460788552327"
      ]
     },
     "execution_count": 35,
     "metadata": {},
     "output_type": "execute_result"
    }
   ],
   "source": [
    "1-stats.chi2.cdf(wald,k)"
   ]
  },
  {
   "cell_type": "markdown",
   "metadata": {},
   "source": [
    "#### ACF and PACF"
   ]
  },
  {
   "cell_type": "code",
   "execution_count": 23,
   "metadata": {},
   "outputs": [
    {
     "data": {
      "text/plain": [
       "<BarContainer object of 30 artists>"
      ]
     },
     "execution_count": 23,
     "metadata": {},
     "output_type": "execute_result"
    },
    {
     "data": {
      "text/plain": [
       "[<matplotlib.lines.Line2D at 0x277b3f65fd0>]"
      ]
     },
     "execution_count": 23,
     "metadata": {},
     "output_type": "execute_result"
    },
    {
     "data": {
      "text/plain": [
       "[<matplotlib.lines.Line2D at 0x277b31657b8>]"
      ]
     },
     "execution_count": 23,
     "metadata": {},
     "output_type": "execute_result"
    },
    {
     "data": {
      "text/plain": [
       "[<matplotlib.lines.Line2D at 0x277b31a8ef0>]"
      ]
     },
     "execution_count": 23,
     "metadata": {},
     "output_type": "execute_result"
    },
    {
     "data": {
      "image/png": "[encoded data removed]",
      "text/plain": [
       "<Figure size 432x288 with 1 Axes>"
      ]
     },
     "metadata": {
      "needs_background": "light"
     },
     "output_type": "display_data"
    }
   ],
   "source": [
    "resid=np.diff(ts1)\n",
    "ACF=np.zeros(30)\n",
    "ACF[0]=stats.pearsonr(resid,resid)[0]\n",
    "for i in range(1,len(ACF)):\n",
    "    lag=resid[i:]\n",
    "    new_res=resid[:len(lag)]\n",
    "    ACF[i]=stats.pearsonr(new_res,lag)[0]\n",
    "\n",
    "plt.bar(range(len(ACF)), ACF, width=0, ec=\"k\");\n",
    "plt.plot(range(len(ACF)),np.ones(30)*(1.96/(len(np.diff(ts1)))**0.5),linestyle='dashed',color=\"blue\");\n",
    "plt.plot(range(len(ACF)),-np.ones(30)*(1.96/(len(np.diff(ts1)))**0.5),linestyle='dashed',color=\"blue\");\n",
    "plt.plot(range(len(ACF)),np.zeros(30),linestyle='solid',color=\"black\",linewidth=1);\n",
    "plt.show()"
   ]
  },
  {
   "cell_type": "code",
   "execution_count": 24,
   "metadata": {},
   "outputs": [
    {
     "data": {
      "text/plain": [
       "<BarContainer object of 25 artists>"
      ]
     },
     "execution_count": 24,
     "metadata": {},
     "output_type": "execute_result"
    },
    {
     "data": {
      "text/plain": [
       "[<matplotlib.lines.Line2D at 0x277b341a860>]"
      ]
     },
     "execution_count": 24,
     "metadata": {},
     "output_type": "execute_result"
    },
    {
     "data": {
      "text/plain": [
       "[<matplotlib.lines.Line2D at 0x277b321a198>]"
      ]
     },
     "execution_count": 24,
     "metadata": {},
     "output_type": "execute_result"
    },
    {
     "data": {
      "text/plain": [
       "[<matplotlib.lines.Line2D at 0x277b324e470>]"
      ]
     },
     "execution_count": 24,
     "metadata": {},
     "output_type": "execute_result"
    },
    {
     "data": {
      "image/png": "[encoded data removed]",
      "text/plain": [
       "<Figure size 432x288 with 1 Axes>"
      ]
     },
     "metadata": {
      "needs_background": "light"
     },
     "output_type": "display_data"
    }
   ],
   "source": [
    "w=np.diff(ts1)\n",
    "PACF=np.zeros(25)\n",
    "for k in range(1,len(PACF)):\n",
    "    y=np.zeros(len(w)-k)\n",
    "    x=np.zeros([len(w)-k,k])\n",
    "    for i in range(len(w)-k):\n",
    "        y[i]=w[i]\n",
    "        for j in range(k):\n",
    "            x[i,j]=w[i+j+1]\n",
    "    theta=np.matmul(np.linalg.inv(np.matmul(np.matrix.transpose(x),x)),np.matmul(np.matrix.transpose(x),y))\n",
    "    PACF[k]=theta[k-1]\n",
    "plt.bar(range(len(PACF)), PACF, width=0, ec=\"k\");\n",
    "plt.plot(range(len(PACF)),np.ones(25)*(1.96/(len(np.diff(ts1)))**0.5),linestyle='dashed',color=\"blue\");\n",
    "plt.plot(range(len(PACF)),-np.ones(25)*(1.96/(len(np.diff(ts1)))**0.5),linestyle='dashed',color=\"blue\");\n",
    "plt.plot(range(len(PACF)),np.zeros(25),linestyle='solid',color=\"black\",linewidth=1);\n",
    "plt.show()"
   ]
  },
  {
   "cell_type": "markdown",
   "metadata": {},
   "source": [
    "### MA(q=2) model"
   ]
  },
  {
   "cell_type": "code",
   "execution_count": 135,
   "metadata": {},
   "outputs": [],
   "source": [
    "def MA(par):\n",
    "    beta=par[:-1]\n",
    "    sig=par[len(par)-1]\n",
    "    data=np.diff(ts1)\n",
    "    q=2\n",
    "    rho1=ACF[1]\n",
    "    rho2=ACF[2]\n",
    "    rat=rho1/rho2\n",
    "    #theta2=(-rat+(rat**2-4*(rho1*rat+rho1-rat)*rho1))/(2*((rho1*rat+rho1-rat)))\n",
    "    theta2=-0.25 # Here, we are just taking a value for theta: The recommeneded initial value of theta can be \n",
    "    theta1=0.50  # found in Box Jenkins book\n",
    "    et=np.zeros(len(data))\n",
    "    for i in range(q+1,len(data)):\n",
    "        et[i]=data[i]+theta1*et[i-1]+theta2*et[i-2]\n",
    "    y=np.zeros(len(data)-q)\n",
    "    x=np.zeros([len(data)-q,q])\n",
    "    for i in range(q+1,len(data)-q):\n",
    "        y[i]=data[i]\n",
    "        for j in range(q):\n",
    "            x[i,j]=et[i+j+1]\n",
    "    tot_loglik=0\n",
    "    for i in range(1,len(y)):\n",
    "        tot_loglik=tot_loglik-0.5*np.log(sig)-0.5*(1/sig)*(y[i]-np.matmul(x[i,],beta))**2\n",
    "    return -tot_loglik"
   ]
  },
  {
   "cell_type": "code",
   "execution_count": 136,
   "metadata": {},
   "outputs": [],
   "source": [
    "def sig_cons(par):\n",
    "    return par[len(par)-1]"
   ]
  },
  {
   "cell_type": "code",
   "execution_count": 137,
   "metadata": {},
   "outputs": [],
   "source": [
    "cons = ({'type': 'ineq', 'fun': sig_cons})"
   ]
  },
  {
   "cell_type": "code",
   "execution_count": 138,
   "metadata": {},
   "outputs": [
    {
     "name": "stderr",
     "output_type": "stream",
     "text": [
      "C:\\Users\\Shakil\\Anaconda3\\lib\\site-packages\\ipykernel_launcher.py:23: RuntimeWarning: invalid value encountered in log\n"
     ]
    },
    {
     "data": {
      "text/plain": [
       "     fun: -20637.89641017618\n",
       "     jac: array([1.07421875e-02, 8.78906250e-03, 3.66255615e+02])\n",
       " message: 'Optimization terminated successfully.'\n",
       "    nfev: 117\n",
       "     nit: 19\n",
       "    njev: 19\n",
       "  status: 0\n",
       " success: True\n",
       "       x: array([ 4.26306665e-01, -1.61715316e-01,  9.80013933e-05])"
      ]
     },
     "execution_count": 138,
     "metadata": {},
     "output_type": "execute_result"
    }
   ],
   "source": [
    "minimize(MA,np.array([0.2,0.2,0.5]),constraints=cons,method='SLSQP')"
   ]
  },
  {
   "cell_type": "markdown",
   "metadata": {},
   "source": [
    "### ARIMA (p,d,q) model"
   ]
  },
  {
   "cell_type": "code",
   "execution_count": 167,
   "metadata": {},
   "outputs": [],
   "source": [
    "def ARIMA(par):\n",
    "    p=1\n",
    "    d=1\n",
    "    q=1\n",
    "    data=ts1\n",
    "    \n",
    "    for i in (range(d)):\n",
    "        data=np.diff(data)\n",
    "    \n",
    "    y=np.zeros(len(data)-np.maximum(p,q))\n",
    "    x=np.zeros([len(data)-np.maximum(p,q),p])\n",
    "    \n",
    "    for i in range(len(data)-np.maximum(p,q)):\n",
    "        y[i]=data[i]\n",
    "        for j in range(p):\n",
    "            x[i,j]=data[i+j+1]\n",
    "    x=np.hstack((np.ones([x.shape[0],1]),x))\n",
    "    theta=np.matmul(np.linalg.inv(np.matmul(np.matrix.transpose(x),x)),np.matmul(np.matrix.transpose(x),y))\n",
    "    res=y-np.matmul(x,theta)\n",
    "    z=np.zeros([len(data)-np.maximum(p,q),q])\n",
    "    for i in range(len(data)-np.maximum(p,q)):\n",
    "        for j in range(q):\n",
    "            z[i,j]=res[i+j]\n",
    "    x=np.hstack((x,z))\n",
    "    \n",
    "    beta=par[:-1]\n",
    "    sig=par[len(par)-1]\n",
    "    phi=0\n",
    "    for i in range(p):\n",
    "        phi=phi+beta[i]\n",
    "    init_mu=beta[0]/(1-phi)\n",
    "    phi2=0\n",
    "    for i in range(p):\n",
    "        phi2=phi2+beta[i]**2\n",
    "    init_sig=sig/(1-phi2)\n",
    "    init_loglik=-0.5*np.log(init_sig)-0.5*(1/init_sig)*(data[0]-init_mu)**2\n",
    "    exact_loglik=init_loglik\n",
    "    for i in range(1,len(y)):\n",
    "        exact_loglik=exact_loglik-0.5*np.log(sig)-0.5*(1/sig)*(y[i]-np.matmul(x[i,],beta))**2\n",
    "    return -exact_loglik"
   ]
  },
  {
   "cell_type": "code",
   "execution_count": 168,
   "metadata": {},
   "outputs": [],
   "source": [
    "q=1\n",
    "def sig_cons(par):\n",
    "    return par[len(par)-1]\n",
    "def beta_cons(par):\n",
    "    return 1-np.sum(par[:-1-q])\n",
    "def beta2_cons(par):\n",
    "    return 1-np.sum(par[:-1-q]**2)"
   ]
  },
  {
   "cell_type": "code",
   "execution_count": 169,
   "metadata": {},
   "outputs": [],
   "source": [
    "cons = ({'type': 'ineq', 'fun': sig_cons},\n",
    "        {'type': 'ineq', 'fun': beta_cons},\n",
    "        {'type': 'ineq', 'fun': beta2_cons})"
   ]
  },
  {
   "cell_type": "code",
   "execution_count": 196,
   "metadata": {},
   "outputs": [
    {
     "name": "stderr",
     "output_type": "stream",
     "text": [
      "C:\\Users\\Shakil\\Anaconda3\\lib\\site-packages\\ipykernel_launcher.py:39: RuntimeWarning: invalid value encountered in log\n",
      "C:\\Users\\Shakil\\Anaconda3\\lib\\site-packages\\ipykernel_launcher.py:36: RuntimeWarning: invalid value encountered in log\n",
      "C:\\Users\\Shakil\\Anaconda3\\lib\\site-packages\\ipykernel_launcher.py:36: RuntimeWarning: divide by zero encountered in log\n",
      "C:\\Users\\Shakil\\Anaconda3\\lib\\site-packages\\ipykernel_launcher.py:36: RuntimeWarning: divide by zero encountered in double_scalars\n",
      "C:\\Users\\Shakil\\Anaconda3\\lib\\site-packages\\ipykernel_launcher.py:36: RuntimeWarning: invalid value encountered in double_scalars\n",
      "C:\\Users\\Shakil\\Anaconda3\\lib\\site-packages\\ipykernel_launcher.py:39: RuntimeWarning: divide by zero encountered in log\n",
      "C:\\Users\\Shakil\\Anaconda3\\lib\\site-packages\\ipykernel_launcher.py:39: RuntimeWarning: divide by zero encountered in double_scalars\n"
     ]
    },
    {
     "data": {
      "text/plain": [
       "     fun: -43908.83534352946\n",
       "     jac: array([3.02442506e+06, 7.26785586e+04, 7.30264404e+03, 5.29257630e+10])\n",
       " message: 'Optimization terminated successfully.'\n",
       "    nfev: 682\n",
       "     nit: 94\n",
       "    njev: 93\n",
       "  status: 0\n",
       " success: True\n",
       "       x: array([-1.26100400e-05, -5.07904778e-02,  1.00009799e+00,  8.13407269e-09])"
      ]
     },
     "execution_count": 196,
     "metadata": {},
     "output_type": "execute_result"
    }
   ],
   "source": [
    "minimize(ARIMA,np.array([-0.01,-0.01,0.001,0.5]),constraints=cons,method='SLSQP')"
   ]
  },
  {
   "cell_type": "code",
   "execution_count": null,
   "metadata": {},
   "outputs": [],
   "source": []
  },
  {
   "cell_type": "code",
   "execution_count": null,
   "metadata": {},
   "outputs": [],
   "source": []
  },
  {
   "cell_type": "code",
   "execution_count": null,
   "metadata": {},
   "outputs": [],
   "source": []
  },
  {
   "cell_type": "code",
   "execution_count": null,
   "metadata": {},
   "outputs": [],
   "source": []
  },
  {
   "cell_type": "code",
   "execution_count": null,
   "metadata": {},
   "outputs": [],
   "source": []
  },
  {
   "cell_type": "code",
   "execution_count": 179,
   "metadata": {},
   "outputs": [],
   "source": [
    "def log_lik(par):\n",
    "    data=np.diff(ts2)\n",
    "    beta=par[:-1]\n",
    "    sig=par[len(par)-1]\n",
    "    phi=0\n",
    "    for i in range(1,len(beta)):\n",
    "        phi=phi+beta[i]\n",
    "    init_mu=beta[0]/(1-phi)\n",
    "    phi2=0\n",
    "    for i in range(1,len(beta)):\n",
    "        phi2=phi2+beta[i]**2\n",
    "    init_sig=sig/(1-phi2)\n",
    "    init_loglik=-0.5*np.log(init_sig)-0.5*(1/init_sig)*(data[0]-init_mu)**2\n",
    "    k=len(beta)-1\n",
    "    y=np.zeros(len(data)-k)\n",
    "    x=np.zeros([len(data)-k,k])\n",
    "    for i in range(len(data)-k):\n",
    "        y[i]=data[i]\n",
    "        for j in range(k):\n",
    "            x[i,j]=data[i+j+1]\n",
    "    x=np.hstack((np.ones([x.shape[0],1]),x))\n",
    "    exact_loglik=init_loglik\n",
    "    for i in range(1,len(y)):\n",
    "        exact_loglik=exact_loglik-0.5*np.log(sig)-0.5*(1/sig)*(y[i]-np.matmul(x[i,],beta))**2\n",
    "    return -exact_loglik"
   ]
  },
  {
   "cell_type": "code",
   "execution_count": 180,
   "metadata": {},
   "outputs": [],
   "source": [
    "def sig_cons(par):\n",
    "    return par[len(par)-1]\n",
    "def beta_cons(par):\n",
    "    return 1-np.sum(par[:-1])\n",
    "def beta2_cons(par):\n",
    "    return 1-np.sum(par[:-1]**2)"
   ]
  },
  {
   "cell_type": "code",
   "execution_count": 181,
   "metadata": {},
   "outputs": [],
   "source": [
    "cons = ({'type': 'ineq', 'fun': sig_cons},\n",
    "        {'type': 'ineq', 'fun': beta_cons},\n",
    "        {'type': 'ineq', 'fun': beta2_cons})"
   ]
  },
  {
   "cell_type": "code",
   "execution_count": 190,
   "metadata": {},
   "outputs": [
    {
     "data": {
      "text/plain": [
       "     fun: -23870.507677534482\n",
       "     jac: array([-2.07058105e+01, -5.09765625e-01,  1.21943728e+04])\n",
       " message: 'Optimization terminated successfully.'\n",
       "    nfev: 362\n",
       "     nit: 57\n",
       "    njev: 57\n",
       "  status: 0\n",
       " success: True\n",
       "       x: array([-1.85649021e-05,  1.05694462e-02,  2.70995781e-05])"
      ]
     },
     "execution_count": 190,
     "metadata": {},
     "output_type": "execute_result"
    }
   ],
   "source": [
    "mod1=minimize(log_lik,np.array([-0.1,0.2,1]),constraints=cons,method='SLSQP')\n",
    "aic1=2*3+2*mod1.fun\n",
    "mod1"
   ]
  },
  {
   "cell_type": "code",
   "execution_count": 194,
   "metadata": {},
   "outputs": [
    {
     "data": {
      "text/plain": [
       "     fun: -23866.102090142773\n",
       "     jac: array([ 4.28515625e+00,  7.32421875e-03, -1.46484375e-02, -4.23796875e+02])\n",
       " message: 'Optimization terminated successfully.'\n",
       "    nfev: 303\n",
       "     nit: 43\n",
       "    njev: 42\n",
       "  status: 0\n",
       " success: True\n",
       "       x: array([-1.79554487e-05,  1.08248532e-02, -1.60284330e-02,  2.70920757e-05])"
      ]
     },
     "execution_count": 194,
     "metadata": {},
     "output_type": "execute_result"
    }
   ],
   "source": [
    "mod2=minimize(log_lik,np.array([-0.1,0.2,-0.1,1]),constraints=cons,method='SLSQP')\n",
    "aic2=2*3+2*mod2.fun\n",
    "mod2"
   ]
  },
  {
   "cell_type": "code",
   "execution_count": 196,
   "metadata": {},
   "outputs": [
    {
     "data": {
      "text/plain": [
       "     fun: -23861.472885376283\n",
       "     jac: array([ 7.64355469e+00,  1.78222656e-02, -9.66796875e-02,  1.24511719e-02,\n",
       "        3.73666748e+02])\n",
       " message: 'Optimization terminated successfully.'\n",
       "    nfev: 332\n",
       "     nit: 41\n",
       "    njev: 40\n",
       "  status: 0\n",
       " success: True\n",
       "       x: array([-1.68259752e-05,  1.06392432e-02, -1.60510389e-02, -2.59609276e-03,\n",
       "        2.70909172e-05])"
      ]
     },
     "execution_count": 196,
     "metadata": {},
     "output_type": "execute_result"
    }
   ],
   "source": [
    "mod3=minimize(log_lik,np.array([-0.1,0.2,-0.1,-0.1,1]),constraints=cons,method='SLSQP')\n",
    "aic3=2*3+2*mod3.fun\n",
    "mod3"
   ]
  },
  {
   "cell_type": "code",
   "execution_count": 199,
   "metadata": {},
   "outputs": [
    {
     "data": {
      "text/plain": [
       "     fun: -23860.141712880926\n",
       "     jac: array([-1.96757812e+01, -1.42089844e-01,  2.90283203e-01, -3.32031250e-02,\n",
       "       -8.86230469e-02,  1.81501875e+04])\n",
       " message: 'Optimization terminated successfully.'\n",
       "    nfev: 357\n",
       "     nit: 38\n",
       "    njev: 37\n",
       "  status: 0\n",
       " success: True\n",
       "       x: array([-1.61242581e-05,  1.06434866e-02, -1.53793137e-02, -3.03735482e-03,\n",
       "        3.93954323e-02,  2.70590879e-05])"
      ]
     },
     "execution_count": 199,
     "metadata": {},
     "output_type": "execute_result"
    }
   ],
   "source": [
    "mod4=minimize(log_lik,np.array([-0.1,0.2,-0.1,-0.1,0.2,1]),constraints=cons,method='SLSQP')\n",
    "aic4=2*3+2*mod4.fun\n",
    "mod4"
   ]
  },
  {
   "cell_type": "code",
   "execution_count": 201,
   "metadata": {},
   "outputs": [
    {
     "data": {
      "text/plain": [
       "     fun: -23858.02409865041\n",
       "     jac: array([-1.33544922e+00,  1.24511719e-02,  2.63671875e-02,  5.85937500e-03,\n",
       "       -1.46484375e-03,  1.07910156e-01,  6.79401123e+02])\n",
       " message: 'Optimization terminated successfully.'\n",
       "    nfev: 537\n",
       "     nit: 53\n",
       "    njev: 52\n",
       "  status: 0\n",
       " success: True\n",
       "       x: array([-1.65666376e-05,  1.20715102e-02, -1.55126525e-02, -3.55422053e-03,\n",
       "        3.98064304e-02, -3.53919647e-02,  2.70254757e-05])"
      ]
     },
     "execution_count": 201,
     "metadata": {},
     "output_type": "execute_result"
    }
   ],
   "source": [
    "mod5=minimize(log_lik,np.array([-0.1,0.2,-0.1,-0.1,0.2,0.2,1]),constraints=cons,method='SLSQP')\n",
    "aic5=2*3+2*mod5.fun\n",
    "mod5"
   ]
  },
  {
   "cell_type": "code",
   "execution_count": 202,
   "metadata": {},
   "outputs": [
    {
     "data": {
      "text/plain": [
       "-47735.015355068965"
      ]
     },
     "execution_count": 202,
     "metadata": {},
     "output_type": "execute_result"
    },
    {
     "data": {
      "text/plain": [
       "-47726.204180285546"
      ]
     },
     "execution_count": 202,
     "metadata": {},
     "output_type": "execute_result"
    },
    {
     "data": {
      "text/plain": [
       "-47716.945770752565"
      ]
     },
     "execution_count": 202,
     "metadata": {},
     "output_type": "execute_result"
    },
    {
     "data": {
      "text/plain": [
       "-47714.28342576185"
      ]
     },
     "execution_count": 202,
     "metadata": {},
     "output_type": "execute_result"
    },
    {
     "data": {
      "text/plain": [
       "-47710.04819730082"
      ]
     },
     "execution_count": 202,
     "metadata": {},
     "output_type": "execute_result"
    }
   ],
   "source": [
    "aic1\n",
    "aic2\n",
    "aic3\n",
    "aic4\n",
    "aic5"
   ]
  },
  {
   "cell_type": "code",
   "execution_count": 211,
   "metadata": {},
   "outputs": [],
   "source": []
  },
  {
   "cell_type": "code",
   "execution_count": null,
   "metadata": {},
   "outputs": [],
   "source": []
  }
 ],
 "metadata": {
  "kernelspec": {
   "display_name": "Python 3",
   "language": "python",
   "name": "python3"
  },
  "language_info": {
   "codemirror_mode": {
    "name": "ipython",
    "version": 3
   },
   "file_extension": ".py",
   "mimetype": "text/x-python",
   "name": "python",
   "nbconvert_exporter": "python",
   "pygments_lexer": "ipython3",
   "version": "3.7.3"
  }
 },
 "nbformat": 4,
 "nbformat_minor": 2
}
